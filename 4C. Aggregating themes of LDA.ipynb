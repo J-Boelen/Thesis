{
 "cells": [
  {
   "cell_type": "code",
   "execution_count": null,
   "metadata": {},
   "outputs": [],
   "source": [
    "# Import the necessary packages\n",
    "import numpy as np\n",
    "import pandas as pd\n",
    "import matplotlib.pyplot as plt\n",
    "import seaborn as sns\n",
    "import datetime\n",
    "from datetime import datetime, timedelta\n"
   ]
  },
  {
   "cell_type": "code",
   "execution_count": null,
   "metadata": {},
   "outputs": [],
   "source": [
    "# Importing the datasets.\n",
    "Tourists = pd.read_csv('tourists_total.csv', sep= ',', low_memory = False, lineterminator='\\n')\n",
    "LDA_EN = pd.read_csv('tweets_topic_EN.csv', sep= ',', low_memory = False, lineterminator='\\n')\n",
    "LDA_NL = pd.read_csv('tweets_topic_NL.csv', sep= ',', low_memory = False, lineterminator='\\n')"
   ]
  },
  {
   "cell_type": "code",
   "execution_count": null,
   "metadata": {},
   "outputs": [],
   "source": [
    "Tourists.head()"
   ]
  },
  {
   "cell_type": "code",
   "execution_count": null,
   "metadata": {},
   "outputs": [],
   "source": [
    "LDA_EN.head()"
   ]
  },
  {
   "cell_type": "code",
   "execution_count": null,
   "metadata": {},
   "outputs": [],
   "source": [
    "LDA_NL.head()"
   ]
  },
  {
   "cell_type": "code",
   "execution_count": null,
   "metadata": {},
   "outputs": [],
   "source": [
    "# Create one dataframe with all topic information.\n",
    "frames = [LDA_EN, LDA_NL]\n",
    "LDA_Total = pd.concat(frames)"
   ]
  },
  {
   "cell_type": "code",
   "execution_count": null,
   "metadata": {},
   "outputs": [],
   "source": [
    "Tourists_LDA = pd.merge(Tourists, LDA_Total, on='item_number', how='left')"
   ]
  },
  {
   "cell_type": "code",
   "execution_count": null,
   "metadata": {},
   "outputs": [],
   "source": [
    "Tourists['item_number'].nunique()"
   ]
  },
  {
   "cell_type": "code",
   "execution_count": null,
   "metadata": {},
   "outputs": [],
   "source": [
    "Tourists_LDA.shape"
   ]
  },
  {
   "cell_type": "code",
   "execution_count": null,
   "metadata": {},
   "outputs": [],
   "source": [
    "# Drop potential duplicates.\n",
    "Tourists_LDA.drop_duplicates(subset =\"item_number\", keep = 'first', inplace = True) \n",
    "\n",
    "Tourists_LDA['item_number'].nunique()"
   ]
  },
  {
   "cell_type": "code",
   "execution_count": null,
   "metadata": {},
   "outputs": [],
   "source": [
    "# Creating themes based on the topics.\n",
    "themeDict = {}"
   ]
  },
  {
   "cell_type": "code",
   "execution_count": null,
   "metadata": {},
   "outputs": [],
   "source": [
    "# Iterate over the dataframe to select the theme.\n",
    "for index, row in Tourists_LDA.iterrows():\n",
    "    \n",
    "    # If we are dealing with a dutch tweet.\n",
    "    if row['lang'] == 'nl':\n",
    "        \n",
    "        if row['topic'] == 'Dutch Topic 3' or row['topic'] == 'Dutch Topic 7' or row['topic'] == 'Dutch Topic 18':\n",
    "            \n",
    "            # Update dict.\n",
    "            themeDict[row['item_number']] = 'Museums'\n",
    "        \n",
    "        elif row['topic'] == 'Dutch Topic 4' or row['topic'] == 'Dutch Topic 6' or row['topic'] == 'Dutch Topic 10' or row['topic'] == 'Dutch Topic 12':\n",
    "            # Update dict.\n",
    "            themeDict[row['item_number']] = 'Festivals'\n",
    "            \n",
    "        elif row['topic'] == 'Dutch Topic 17' or row['topic'] == 'Dutch Topic 18':\n",
    "            \n",
    "            # Update dict.\n",
    "            themeDict[row['item_number']] = 'Sightseeing'\n",
    "        \n",
    "        elif row['topic'] == 'Dutch Topic 8' or row['topic'] == 'Dutch Topic 20':\n",
    "            \n",
    "            # Update dict.\n",
    "            themeDict[row['item_number']] = 'Sports'\n",
    "        \n",
    "        elif row['topic'] == 'Dutch Topic 2':\n",
    "            \n",
    "            # Update dict.\n",
    "            themeDict[row['item_number']] = 'Travel'\n",
    "        \n",
    "        else:\n",
    "            continue\n",
    "    \n",
    "    # If we are dealing with an english tweet.\n",
    "    elif row['lang'] == 'en':\n",
    "        \n",
    "        if row['topic'] == 'Topic 2':\n",
    "            \n",
    "            # Update dict.\n",
    "            themeDict[row['item_number']] = 'Museums'\n",
    "        \n",
    "        elif row['topic'] == 'Topic 1' or row['topic'] == 'Topic 3' or row['topic'] == 'Topic 6':\n",
    "            \n",
    "            # Update dict.\n",
    "            themeDict[row['item_number']] = 'Festivals'\n",
    "        \n",
    "        elif row['topic'] == 'Topic 7' or row['topic'] == 'Topic 8' or row['topic'] == 'Topic 11' or row['topic'] == 'Topic 16':\n",
    "            \n",
    "            # Update dict.\n",
    "            themeDict[row['item_number']] = 'Sightseeing'\n",
    "            \n",
    "        elif row['topic'] == 'Topic 19':\n",
    "            \n",
    "            # Update dict.\n",
    "            themeDict[row['item_number']] = 'Sports'\n",
    "        \n",
    "        elif row['topic'] == 'Topic 13' or row['topic'] == 'Topic 15' or row['topic'] == 'Topic 17':\n",
    "            \n",
    "            # Update dict.\n",
    "            themeDict[row['item_number']] = 'Travel'\n",
    "        \n",
    "        else:\n",
    "            continue\n",
    "    \n",
    "    else:\n",
    "        continue"
   ]
  },
  {
   "cell_type": "code",
   "execution_count": null,
   "metadata": {},
   "outputs": [],
   "source": [
    "# Create DF.\n",
    "themeDF = pd.DataFrame(themeDict, index=[0]).T"
   ]
  },
  {
   "cell_type": "code",
   "execution_count": null,
   "metadata": {},
   "outputs": [],
   "source": [
    "# Rename columns\n",
    "themeDF.rename(columns={0:'theme'}, inplace=True)"
   ]
  },
  {
   "cell_type": "code",
   "execution_count": null,
   "metadata": {},
   "outputs": [],
   "source": [
    "themeDF"
   ]
  },
  {
   "cell_type": "code",
   "execution_count": null,
   "metadata": {},
   "outputs": [],
   "source": [
    "# Merge with original tourist df.\n",
    "Tourists_LDA_2 = pd.merge(Tourists_LDA, themeDF, left_on='item_number', right_index= True, how='left')"
   ]
  },
  {
   "cell_type": "code",
   "execution_count": null,
   "metadata": {},
   "outputs": [],
   "source": [
    "# Getting some basic descriptive statistics.\n",
    "ThemeList = list(Tourists_LDA_2_English['theme'].value_counts())"
   ]
  },
  {
   "cell_type": "code",
   "execution_count": null,
   "metadata": {},
   "outputs": [],
   "source": [
    "count = 0\n",
    "\n",
    "for i in ThemeList:\n",
    "    count += i\n",
    "count"
   ]
  },
  {
   "cell_type": "code",
   "execution_count": null,
   "metadata": {},
   "outputs": [],
   "source": [
    "Tourists_LDA_2_Dutch = Tourists_LDA_2[Tourists_LDA_2['lang'] == 'nl']\n",
    "Tourists_LDA_2_English = Tourists_LDA_2[Tourists_LDA_2['lang'] == 'en']"
   ]
  },
  {
   "cell_type": "code",
   "execution_count": null,
   "metadata": {},
   "outputs": [],
   "source": [
    "Tourists_LDA_2_English['theme'].value_counts()"
   ]
  },
  {
   "cell_type": "code",
   "execution_count": null,
   "metadata": {},
   "outputs": [],
   "source": [
    "4677 / 20301"
   ]
  },
  {
   "cell_type": "code",
   "execution_count": null,
   "metadata": {},
   "outputs": [],
   "source": [
    "# Write to CSV for later use.\n",
    "Tourists_LDA_2.to_csv('tourists_total_themes.csv', index=False)"
   ]
  }
 ],
 "metadata": {
  "kernelspec": {
   "display_name": "Python 3",
   "language": "python",
   "name": "python3"
  },
  "language_info": {
   "codemirror_mode": {
    "name": "ipython",
    "version": 3
   },
   "file_extension": ".py",
   "mimetype": "text/x-python",
   "name": "python",
   "nbconvert_exporter": "python",
   "pygments_lexer": "ipython3",
   "version": "3.7.6"
  }
 },
 "nbformat": 4,
 "nbformat_minor": 4
}

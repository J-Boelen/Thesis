{
 "cells": [
  {
   "cell_type": "markdown",
   "metadata": {},
   "source": [
    "# Importing packages"
   ]
  },
  {
   "cell_type": "code",
   "execution_count": null,
   "metadata": {},
   "outputs": [],
   "source": [
    "import numpy as np\n",
    "import pandas as pd"
   ]
  },
  {
   "cell_type": "markdown",
   "metadata": {},
   "source": [
    "# Import clustered tourist file"
   ]
  },
  {
   "cell_type": "code",
   "execution_count": null,
   "metadata": {},
   "outputs": [],
   "source": [
    "# Import the dataset\n",
    "Tourists = pd.read_csv('CSV/photo_dataset_clustered.csv', sep= ',', low_memory = False, lineterminator='\\n')"
   ]
  },
  {
   "cell_type": "code",
   "execution_count": null,
   "metadata": {},
   "outputs": [],
   "source": [
    "# Import the other files\n",
    "Flickr = pd.read_csv('CSV/Flickr_Tourists.csv', sep= ',', low_memory = False, lineterminator='\\n')\n",
    "TwitterPhoto = pd.read_csv('CSV/tourists_attachments.csv', sep= ',', low_memory = False, lineterminator='\\n')"
   ]
  },
  {
   "cell_type": "code",
   "execution_count": null,
   "metadata": {
    "scrolled": true
   },
   "outputs": [],
   "source": [
    "Flickr.head()"
   ]
  },
  {
   "cell_type": "code",
   "execution_count": null,
   "metadata": {},
   "outputs": [],
   "source": [
    "Flickr['post_date'] = pd.to_datetime(Flickr['postedTime'])"
   ]
  },
  {
   "cell_type": "code",
   "execution_count": null,
   "metadata": {},
   "outputs": [],
   "source": [
    "FlickrDateInfo = Flickr[['photoID', 'post_date', 'userID']]"
   ]
  },
  {
   "cell_type": "code",
   "execution_count": null,
   "metadata": {},
   "outputs": [],
   "source": [
    "TwitterPhoto['post_date'] = pd.to_datetime(TwitterPhoto['tweet_date'])"
   ]
  },
  {
   "cell_type": "code",
   "execution_count": null,
   "metadata": {},
   "outputs": [],
   "source": [
    "TwitterDateInfo = TwitterPhoto[['item_number','post_date','user_id']]"
   ]
  },
  {
   "cell_type": "code",
   "execution_count": null,
   "metadata": {
    "scrolled": true
   },
   "outputs": [],
   "source": [
    "# Get an overview of the clusters.\n",
    "Tourists['cluster'].value_counts()"
   ]
  },
  {
   "cell_type": "code",
   "execution_count": null,
   "metadata": {
    "scrolled": true
   },
   "outputs": [],
   "source": [
    "Tourists.dtypes"
   ]
  },
  {
   "cell_type": "code",
   "execution_count": null,
   "metadata": {},
   "outputs": [],
   "source": [
    "Tourists = pd.merge(Tourists, TwitterDateInfo, on='item_number', how='left')"
   ]
  },
  {
   "cell_type": "code",
   "execution_count": null,
   "metadata": {},
   "outputs": [],
   "source": [
    "Tourists = pd.merge(Tourists, FlickrDateInfo, on='photoID', how='left')"
   ]
  },
  {
   "cell_type": "code",
   "execution_count": null,
   "metadata": {},
   "outputs": [],
   "source": [
    "Tourists.shape"
   ]
  },
  {
   "cell_type": "code",
   "execution_count": null,
   "metadata": {},
   "outputs": [],
   "source": [
    "Tourists"
   ]
  },
  {
   "cell_type": "code",
   "execution_count": null,
   "metadata": {},
   "outputs": [],
   "source": [
    "# Create a dataset with only clustered tweets.\n",
    "Tourists_InCluster = Tourists[Tourists['cluster'] != 'None']"
   ]
  },
  {
   "cell_type": "code",
   "execution_count": null,
   "metadata": {},
   "outputs": [],
   "source": [
    "Tourists_InCluster = Tourists_InCluster[Tourists_InCluster['cluster'] != 'Rotterdam The Hague Airport']"
   ]
  },
  {
   "cell_type": "code",
   "execution_count": null,
   "metadata": {},
   "outputs": [],
   "source": [
    "Tourists_InCluster['user_id'].nunique() + Tourists_InCluster['userID'].nunique()"
   ]
  },
  {
   "cell_type": "code",
   "execution_count": null,
   "metadata": {},
   "outputs": [],
   "source": [
    "Tourists_InCluster.loc[Tourists_InCluster['cluster'] == 'Blaak', ['cluster']] = 'City Center/Blaak'\n",
    "Tourists_InCluster.loc[Tourists_InCluster['cluster'] == 'City Center', ['cluster']] = 'City Center/Blaak'\n"
   ]
  },
  {
   "cell_type": "code",
   "execution_count": null,
   "metadata": {},
   "outputs": [],
   "source": [
    "# Get an overview of the clusters.\n",
    "Tourists_InCluster['cluster'].value_counts()"
   ]
  },
  {
   "cell_type": "code",
   "execution_count": null,
   "metadata": {
    "scrolled": false
   },
   "outputs": [],
   "source": [
    "Tourists_InCluster.tail()"
   ]
  },
  {
   "cell_type": "code",
   "execution_count": null,
   "metadata": {},
   "outputs": [],
   "source": [
    "Tourists_InCluster[\"user\"] = Tourists_InCluster[\"user_id\"].astype(str) + Tourists_InCluster[\"userID\"].astype(str)\n"
   ]
  },
  {
   "cell_type": "code",
   "execution_count": null,
   "metadata": {},
   "outputs": [],
   "source": [
    "Tourists_InCluster['post_date'] = Tourists_InCluster[\"post_date_x\"].astype(str) + Tourists_InCluster[\"post_date_y\"].astype(str)"
   ]
  },
  {
   "cell_type": "code",
   "execution_count": null,
   "metadata": {},
   "outputs": [],
   "source": []
  },
  {
   "cell_type": "code",
   "execution_count": null,
   "metadata": {},
   "outputs": [],
   "source": [
    "Tourists_InCluster.loc[69441]['post_date'][:26]"
   ]
  },
  {
   "cell_type": "code",
   "execution_count": null,
   "metadata": {},
   "outputs": [],
   "source": [
    "def removeNaT(x):\n",
    "    \n",
    "    startingIndex = x.find(\"NaT\")\n",
    "    returnString = ''\n",
    "    if startingIndex == 0:\n",
    "        returnString = x[3:]\n",
    "    else:\n",
    "        returnString = x[:startingIndex]\n",
    "    return returnString   "
   ]
  },
  {
   "cell_type": "code",
   "execution_count": null,
   "metadata": {},
   "outputs": [],
   "source": [
    "Tourists_InCluster['tweet_date'] = Tourists_InCluster['post_date'].map(lambda x: removeNaT(x))"
   ]
  },
  {
   "cell_type": "code",
   "execution_count": null,
   "metadata": {},
   "outputs": [],
   "source": [
    "Tourists_InCluster['tweet_date'] = pd.to_datetime(Tourists_InCluster['tweet_date'])"
   ]
  },
  {
   "cell_type": "markdown",
   "metadata": {},
   "source": [
    "#### Next, I want to generate a path for each individual user"
   ]
  },
  {
   "cell_type": "markdown",
   "metadata": {},
   "source": [
    "This path will partly correspond to the one De Choudhury et al. used. However, I will not be looking at time between tweets for now. Time will only be used to construct the path in the right order."
   ]
  },
  {
   "cell_type": "code",
   "execution_count": null,
   "metadata": {},
   "outputs": [],
   "source": [
    "# Create a set of unique users.\n",
    "UniqueUsers = Tourists_InCluster['user'].unique()"
   ]
  },
  {
   "cell_type": "code",
   "execution_count": null,
   "metadata": {},
   "outputs": [],
   "source": [
    "# Create an empty trajectory dictionary\n",
    "Trajectories = {}"
   ]
  },
  {
   "cell_type": "code",
   "execution_count": null,
   "metadata": {},
   "outputs": [],
   "source": [
    "# For each user, create a timed path, get the cluster of each posts and add it to the empty dictionary.\n",
    "for i in UniqueUsers:\n",
    "    \n",
    "    # Get all the posts of the user.\n",
    "    Posts = Tourists_InCluster[Tourists_InCluster['user'] == i]\n",
    "    \n",
    "    # Sort the tweets.\n",
    "    Posts = Posts.sort_values(by='tweet_date')\n",
    "    \n",
    "    # Get a list of all the clusters and put it in an array.\n",
    "    ClustersOfPosts = Posts['cluster'].values\n",
    "    \n",
    "    # Add the user and the timed path to the dictionary.\n",
    "    Trajectories.update( {i : ClustersOfPosts} )"
   ]
  },
  {
   "cell_type": "code",
   "execution_count": null,
   "metadata": {},
   "outputs": [],
   "source": [
    "# Trajectories in string format\n",
    "TrajectoryString = {}"
   ]
  },
  {
   "cell_type": "code",
   "execution_count": null,
   "metadata": {},
   "outputs": [],
   "source": [
    "for key, value in Trajectories.items():\n",
    "    \n",
    "    trajectoryString = ''\n",
    "    \n",
    "    for i in range(len(value)):\n",
    "        if trajectoryString == '':\n",
    "            trajectoryString += value[i]\n",
    "        else:\n",
    "            trajectoryString += (' -> ' + str(value[i]))\n",
    "    \n",
    "    TrajectoryString.update({key:trajectoryString })\n",
    "        "
   ]
  },
  {
   "cell_type": "code",
   "execution_count": null,
   "metadata": {},
   "outputs": [],
   "source": [
    "# Trajectory in array format\n",
    "Trajectory = pd.DataFrame(list(Trajectories.items()))\n",
    "Trajectory = Trajectory.rename(columns={0: \"user_id\", 1: \"trajectory\"})"
   ]
  },
  {
   "cell_type": "code",
   "execution_count": null,
   "metadata": {},
   "outputs": [],
   "source": [
    "# Trajectory in string format\n",
    "TrajectoryStr = pd.DataFrame(list(TrajectoryString.items()))\n",
    "TrajectoryStr = TrajectoryStr.rename(columns={0: \"user_id\", 1: \"trajectory\"})"
   ]
  },
  {
   "cell_type": "code",
   "execution_count": null,
   "metadata": {
    "scrolled": true
   },
   "outputs": [],
   "source": [
    "TrajectoryStr.tail()"
   ]
  },
  {
   "cell_type": "markdown",
   "metadata": {},
   "source": [
    "#### Next, I will explore the data to see how many people actually moved in the city"
   ]
  },
  {
   "cell_type": "code",
   "execution_count": null,
   "metadata": {},
   "outputs": [],
   "source": [
    "#AllTrajectories = Trajectory['trajectory'].values"
   ]
  },
  {
   "cell_type": "code",
   "execution_count": null,
   "metadata": {},
   "outputs": [],
   "source": [
    "#numberOfTrajectories = len(Trajectory)\n",
    "#numberOfMovingTrajectories = 0"
   ]
  },
  {
   "cell_type": "code",
   "execution_count": null,
   "metadata": {},
   "outputs": [],
   "source": [
    "# Get the number of trajectories that actually move between POIs.\n",
    "#for i in range(len(Trajectory)):\n",
    "    \n",
    "    #for j in range(len(Trajectory)):\n",
    "        \n",
    "        #if len(set(Trajectory)) != 1 and len(Trajectory) != 1:\n",
    "            #numberOfMovingTrajectories += 1"
   ]
  },
  {
   "cell_type": "code",
   "execution_count": null,
   "metadata": {},
   "outputs": [],
   "source": [
    "#print('Number of trajectories total: {}'.format(numberOfTrajectories))\n",
    "#print('Number of moving trajectories: {}'.format(numberOfMovingTrajectories))\n",
    "#print('Percentage of trajectories that actually moves: {}'.format(str(numberOfMovingTrajectories/numberOfTrajectories)))"
   ]
  },
  {
   "cell_type": "markdown",
   "metadata": {},
   "source": [
    "#### Create pairs in a dictionary"
   ]
  },
  {
   "cell_type": "code",
   "execution_count": null,
   "metadata": {},
   "outputs": [],
   "source": [
    "# A dictionary that will hold all the pairs\n",
    "POIPairs = {}"
   ]
  },
  {
   "cell_type": "code",
   "execution_count": null,
   "metadata": {},
   "outputs": [],
   "source": [
    "POIPairs"
   ]
  },
  {
   "cell_type": "code",
   "execution_count": null,
   "metadata": {},
   "outputs": [],
   "source": [
    "# A function to filter the dataframe based on number of tweets\n",
    "def filterOnNumberOfTweets(x):\n",
    "    \n",
    "    if len(x) > 1:\n",
    "        return True\n",
    "    return False"
   ]
  },
  {
   "cell_type": "code",
   "execution_count": null,
   "metadata": {},
   "outputs": [],
   "source": [
    "Trajectory['isCandidate'] = Trajectory['trajectory'].map(lambda x: filterOnNumberOfTweets(x))"
   ]
  },
  {
   "cell_type": "code",
   "execution_count": null,
   "metadata": {},
   "outputs": [],
   "source": [
    "POI = Trajectory[Trajectory['isCandidate']]"
   ]
  },
  {
   "cell_type": "code",
   "execution_count": null,
   "metadata": {},
   "outputs": [],
   "source": [
    "POI.shape"
   ]
  },
  {
   "cell_type": "code",
   "execution_count": null,
   "metadata": {},
   "outputs": [],
   "source": [
    "# A function that creates paires of POIS.\n",
    "def createPOIPairs(dataframeWithPOI):\n",
    "    \n",
    "    # Loop over the given dataframe.\n",
    "    for index, row in dataframeWithPOI.iterrows():\n",
    "        \n",
    "        pairs = []\n",
    "        \n",
    "        # Loop over the array of trajectories for each row.\n",
    "        for i in range(len(row['trajectory'])-1):\n",
    "            \n",
    "            # Create a pair.\n",
    "            pair = [row['trajectory'][i], row['trajectory'][i+1]]\n",
    "            print(pair)\n",
    "            \n",
    "            # If the pair already exists, continue (I only want unique pairs for each user)\n",
    "            if pair in pairs:\n",
    "                continue\n",
    "            \n",
    "            # Else process the pair.\n",
    "            else:\n",
    "                \n",
    "                # Append the pair to the pair list.\n",
    "                pairs.append(pair)\n",
    "            \n",
    "                # If i already in the dictionary, append.\n",
    "                if row['trajectory'][i] in POIPairs.keys():\n",
    "                    POIPairs[row['trajectory'][i]].append(row['trajectory'][i+1])\n",
    "                # Else, create new key.\n",
    "                else:\n",
    "                    POIPairs[row['trajectory'][i]] = [row['trajectory'][i+1]]\n",
    "    \n",
    "    "
   ]
  },
  {
   "cell_type": "code",
   "execution_count": null,
   "metadata": {},
   "outputs": [],
   "source": [
    "createPOIPairs(POI)"
   ]
  },
  {
   "cell_type": "code",
   "execution_count": null,
   "metadata": {},
   "outputs": [],
   "source": [
    "POIPairs"
   ]
  },
  {
   "cell_type": "markdown",
   "metadata": {},
   "source": [
    "#### Building a markov prediction model"
   ]
  },
  {
   "cell_type": "code",
   "execution_count": null,
   "metadata": {},
   "outputs": [],
   "source": [
    "# Pick a random start point.\n",
    "startPoint = np.random.choice(list(POIPairs.keys()))"
   ]
  },
  {
   "cell_type": "code",
   "execution_count": null,
   "metadata": {},
   "outputs": [],
   "source": [
    "# Begin the markov chain with the start point.\n",
    "MarkovChain = [startPoint]"
   ]
  },
  {
   "cell_type": "code",
   "execution_count": null,
   "metadata": {},
   "outputs": [],
   "source": [
    "numberOfVisitedLocations = 6"
   ]
  },
  {
   "cell_type": "code",
   "execution_count": null,
   "metadata": {},
   "outputs": [],
   "source": [
    "for i in range(numberOfVisitedLocations):\n",
    "    MarkovChain.append(np.random.choice(POIPairs[MarkovChain[-1]]))"
   ]
  },
  {
   "cell_type": "code",
   "execution_count": null,
   "metadata": {},
   "outputs": [],
   "source": [
    "print(MarkovChain)"
   ]
  },
  {
   "cell_type": "markdown",
   "metadata": {},
   "source": [
    "#### Generating a transition matrix"
   ]
  },
  {
   "cell_type": "code",
   "execution_count": null,
   "metadata": {},
   "outputs": [],
   "source": [
    "# Empty transition matrix\n",
    "TransitionMatrix = []"
   ]
  },
  {
   "cell_type": "code",
   "execution_count": null,
   "metadata": {
    "scrolled": true
   },
   "outputs": [],
   "source": [
    "# Iterate over the keys to fill the transition matrix\n",
    "for key in POIPairs:\n",
    "    \n",
    "    # Count the total number of observations.\n",
    "    totalObs = len(POIPairs[key])\n",
    "    \n",
    "    # Count how many times each POI occurs and get percentages\n",
    "    totalCityCenterBlaak = POIPairs[key].count('City Center/Blaak') / totalObs\n",
    "    totalAhoy = POIPairs[key].count('Rotterdam Ahoy') / totalObs\n",
    "    totalBlijdorp = POIPairs[key].count('Blijdorp Zoo') / totalObs\n",
    "    totalErasmusBridge = POIPairs[key].count('Kop van Zuid') / totalObs\n",
    "    totalEuromast = POIPairs[key].count('Euromast')/ totalObs\n",
    "    totalFeyenoord = POIPairs[key].count('Feyenoord Stadium') / totalObs\n",
    "    \n",
    "    totalPercentage = totalCityCenterBlaak + totalBlijdorp + totalAhoy + totalErasmusBridge + totalFeyenoord + totalEuromast\n",
    "    # Append the percentages to the transition matrix.\n",
    "    TransitionMatrix.append([totalCityCenterBlaak, totalAhoy, totalBlijdorp, totalErasmusBridge, totalEuromast, totalFeyenoord])\n",
    "    print(key)"
   ]
  },
  {
   "cell_type": "code",
   "execution_count": null,
   "metadata": {},
   "outputs": [],
   "source": [
    "# Create a dataframe for better visualization.\n",
    "TransitionMatrixDF = pd.DataFrame(TransitionMatrix)"
   ]
  },
  {
   "cell_type": "code",
   "execution_count": null,
   "metadata": {},
   "outputs": [],
   "source": [
    "TransitionMatrixDF"
   ]
  },
  {
   "cell_type": "code",
   "execution_count": null,
   "metadata": {},
   "outputs": [],
   "source": [
    "# Rename columns to match the order\n",
    "TransitionMatrixDF.rename(columns = {0: \"City Center/Blaak\", 1: \" Rotterdam Ahoy\", 2: \"Blijdorp Zoo\", 3: \"Kop van Zuid\",\n",
    "                                    4: \"Euromast\", 5: \"Feyenoord Stadium\"}, inplace=True)"
   ]
  },
  {
   "cell_type": "code",
   "execution_count": null,
   "metadata": {},
   "outputs": [],
   "source": [
    "# Rename index to match the order\n",
    "TransitionMatrixDF.rename(index = {0: \"City Center/Blaak\", 1: \"Rotterdam Ahoy\", 2: \"Blijdorp Zoo\", 3: \"Kop van Zuid\",\n",
    "                                    4: \"Euromast\", 5: \"Feyenoord Stadium\"}, inplace=True)"
   ]
  },
  {
   "cell_type": "code",
   "execution_count": null,
   "metadata": {},
   "outputs": [],
   "source": [
    "TransitionMatrixDF"
   ]
  },
  {
   "cell_type": "code",
   "execution_count": null,
   "metadata": {},
   "outputs": [],
   "source": []
  }
 ],
 "metadata": {
  "kernelspec": {
   "display_name": "Python 3",
   "language": "python",
   "name": "python3"
  },
  "language_info": {
   "codemirror_mode": {
    "name": "ipython",
    "version": 3
   },
   "file_extension": ".py",
   "mimetype": "text/x-python",
   "name": "python",
   "nbconvert_exporter": "python",
   "pygments_lexer": "ipython3",
   "version": "3.7.6"
  }
 },
 "nbformat": 4,
 "nbformat_minor": 4
}

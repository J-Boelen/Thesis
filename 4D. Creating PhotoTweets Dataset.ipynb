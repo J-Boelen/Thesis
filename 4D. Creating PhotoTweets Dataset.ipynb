{
 "cells": [
  {
   "cell_type": "code",
   "execution_count": null,
   "metadata": {},
   "outputs": [],
   "source": [
    "# Import the necessary packages\n",
    "import numpy as np\n",
    "import pandas as pd\n",
    "import matplotlib.pyplot as plt\n",
    "import matplotlib.patches as mpatches\n",
    "import seaborn as sns\n",
    "import sqlite3\n",
    "sns.set()"
   ]
  },
  {
   "cell_type": "code",
   "execution_count": null,
   "metadata": {},
   "outputs": [],
   "source": [
    "# Getting all monthly files containing the information about attachments\n",
    "# Connect with the db file and create cursor object to be able to execute queries\n",
    "year = 2012\n",
    "month = 1\n",
    "\n",
    "yearStr = ''\n",
    "monthStr = ''\n",
    "\n",
    "while year < 2019:\n",
    "    \n",
    "    while month < 13:\n",
    "        \n",
    "        # Change the month to corresponding string.\n",
    "        if month == 1:\n",
    "            monthStr = '01'\n",
    "        if month == 2:\n",
    "            monthStr = '02'    \n",
    "        if month == 3:\n",
    "            monthStr = '03'\n",
    "        if month == 4:\n",
    "            monthStr = '04'\n",
    "        if month == 5:\n",
    "            monthStr = '05'\n",
    "        if month == 6:\n",
    "            monthStr = '06'\n",
    "        if month == 7:\n",
    "            monthStr = '07'    \n",
    "        if month == 8:\n",
    "            monthStr = '08'\n",
    "        if month == 9:\n",
    "            monthStr = '09'\n",
    "        if month == 10:\n",
    "            monthStr = '10'\n",
    "        if month == 11:\n",
    "            monthStr = '11'\n",
    "        if month == 12:\n",
    "            monthStr = '12'\n",
    "        \n",
    "        yearStr = str(year)\n",
    "        # Create connection\n",
    "        connection = sqlite3.connect('/Volumes/Hard drive/Thesis/Data/' + yearStr + '/month_' + yearStr + '_' + monthStr +'.db')\n",
    "        cursor = connection.cursor()\n",
    "        \n",
    "        # Read media nl file and store it in the final dataframe.\n",
    "        media = pd.read_sql_query(\"SELECT * FROM media_NL\", connection)\n",
    "        TwitterMedia = TwitterMedia.append(media)\n",
    "        \n",
    "        # Add one month\n",
    "        month += 1\n",
    "        \n",
    "    # Reset month\n",
    "    month = 1\n",
    "    \n",
    "    # Add one year\n",
    "    year += 1      \n",
    "        "
   ]
  },
  {
   "cell_type": "code",
   "execution_count": null,
   "metadata": {},
   "outputs": [],
   "source": [
    "# Create media id dataframe\n",
    "TwitterMedia = pd.DataFrame()"
   ]
  },
  {
   "cell_type": "code",
   "execution_count": null,
   "metadata": {},
   "outputs": [],
   "source": [
    "TwitterMedia\n",
    "TwitterMedia.to_csv('CSV/TwitterPhotoIDs.csv', index=False)"
   ]
  },
  {
   "cell_type": "code",
   "execution_count": null,
   "metadata": {},
   "outputs": [],
   "source": [
    "Tourists = pd.read_csv('tourists_total.csv', sep= ',', low_memory = False, lineterminator='\\n')\n",
    "PhotoIDs = pd.read_csv('TwitterPhotoIDs.csv', sep=',', low_memory = False, lineterminator='\\n')"
   ]
  },
  {
   "cell_type": "code",
   "execution_count": null,
   "metadata": {
    "scrolled": true
   },
   "outputs": [],
   "source": [
    "Tourists.head()"
   ]
  },
  {
   "cell_type": "code",
   "execution_count": null,
   "metadata": {},
   "outputs": [],
   "source": [
    "PhotoIDs.head()"
   ]
  },
  {
   "cell_type": "code",
   "execution_count": null,
   "metadata": {},
   "outputs": [],
   "source": [
    "tweetsWithPhoto = list(PhotoIDs['item_number'])"
   ]
  },
  {
   "cell_type": "code",
   "execution_count": null,
   "metadata": {},
   "outputs": [],
   "source": [
    "len(tweetsWithPhoto)"
   ]
  },
  {
   "cell_type": "code",
   "execution_count": null,
   "metadata": {},
   "outputs": [],
   "source": [
    "# Create an empty dictionary to whether a tweet has photos\n",
    "PhotoDict = dict()"
   ]
  },
  {
   "cell_type": "code",
   "execution_count": null,
   "metadata": {},
   "outputs": [],
   "source": [
    "for index, row in Tourists.iterrows():\n",
    "    \n",
    "    hasPhoto = False\n",
    "    \n",
    "    if row['item_number'] in tweetsWithPhoto:\n",
    "        hasPhoto = True\n",
    "    \n",
    "    PhotoDict.update( {row['item_number'] : hasPhoto} )"
   ]
  },
  {
   "cell_type": "code",
   "execution_count": null,
   "metadata": {},
   "outputs": [],
   "source": [
    "# Transform the dictionary into a dataframe and rename the columns.\n",
    "PhotoInfo = pd.DataFrame(list(PhotoDict.items()))\n",
    "PhotoInfo = PhotoInfo.rename(columns={0: \"item_number\", 1: \"has_attachment\"})"
   ]
  },
  {
   "cell_type": "code",
   "execution_count": null,
   "metadata": {},
   "outputs": [],
   "source": [
    "# Statistics on the amount of tweets with attachments\n",
    "PhotoInfo['has_attachment'].value_counts()"
   ]
  },
  {
   "cell_type": "code",
   "execution_count": null,
   "metadata": {},
   "outputs": [],
   "source": [
    "# Merge with the original dataset\n",
    "Tourists = pd.merge(Tourists, PhotoInfo, on='item_number', how='left')"
   ]
  },
  {
   "cell_type": "code",
   "execution_count": null,
   "metadata": {},
   "outputs": [],
   "source": [
    "# Export to CSV files for later analysis.\n",
    "Tourists.to_csv('tourists_total.csv', index=False)"
   ]
  },
  {
   "cell_type": "code",
   "execution_count": null,
   "metadata": {},
   "outputs": [],
   "source": [
    "PhotoTourists = Tourists[Tourists['has_attachment'] == True]"
   ]
  },
  {
   "cell_type": "code",
   "execution_count": null,
   "metadata": {},
   "outputs": [],
   "source": [
    "PhotoTourists['has_attachment'].value_counts()"
   ]
  },
  {
   "cell_type": "code",
   "execution_count": null,
   "metadata": {},
   "outputs": [],
   "source": [
    "# Export to CSV files for later analysis.\n",
    "PhotoTourists.to_csv('tourists_attachments.csv', index=False)"
   ]
  },
  {
   "cell_type": "code",
   "execution_count": null,
   "metadata": {},
   "outputs": [],
   "source": [
    "Tourists_Attach = pd.read_csv('tourists_attachments.csv', sep= ',', low_memory = False, lineterminator='\\n')\n"
   ]
  }
 ],
 "metadata": {
  "kernelspec": {
   "display_name": "Python 3",
   "language": "python",
   "name": "python3"
  },
  "language_info": {
   "codemirror_mode": {
    "name": "ipython",
    "version": 3
   },
   "file_extension": ".py",
   "mimetype": "text/x-python",
   "name": "python",
   "nbconvert_exporter": "python",
   "pygments_lexer": "ipython3",
   "version": "3.7.6"
  }
 },
 "nbformat": 4,
 "nbformat_minor": 4
}

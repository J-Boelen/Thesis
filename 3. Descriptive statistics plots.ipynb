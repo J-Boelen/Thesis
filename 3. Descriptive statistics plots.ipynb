{
 "cells": [
  {
   "cell_type": "code",
   "execution_count": null,
   "metadata": {},
   "outputs": [],
   "source": [
    "# Import the necessary packages\n",
    "import numpy as np\n",
    "import pandas as pd\n",
    "import matplotlib.pyplot as plt\n",
    "import seaborn as sns\n",
    "import datetime\n",
    "from datetime import datetime, timedelta\n"
   ]
  },
  {
   "cell_type": "code",
   "execution_count": null,
   "metadata": {},
   "outputs": [],
   "source": [
    "# Importing the csv file created with the data preparation jupyter notebook.\n",
    "_2012 = pd.read_csv('2012.csv', sep= ',', low_memory = False, lineterminator='\\n')\n",
    "_2013 = pd.read_csv('2013.csv', sep= ',', low_memory = False, lineterminator='\\n')\n",
    "_2014 = pd.read_csv('2014.csv', sep= ',', low_memory = False, lineterminator='\\n')\n",
    "_2015 = pd.read_csv('2015.csv', sep= ',', low_memory = False, lineterminator='\\n')\n",
    "_2016 = pd.read_csv('2016.csv', sep= ',', low_memory = False, lineterminator='\\n')\n",
    "_2017 = pd.read_csv('2017.csv', sep= ',', low_memory = False, lineterminator='\\n')\n",
    "_2018 = pd.read_csv('2018.csv', sep= ',', low_memory = False, lineterminator='\\n')"
   ]
  },
  {
   "cell_type": "code",
   "execution_count": null,
   "metadata": {},
   "outputs": [],
   "source": [
    "tweetsPerYear = [\n",
    "    [2012, len(_2012)],\n",
    "    [2013, len(_2013)],\n",
    "    [2014, len(_2014)],\n",
    "    [2015, len(_2015)],\n",
    "    [2016, len(_2016)],\n",
    "    [2017, len(_2017)],\n",
    "    [2018, len(_2018)]\n",
    "]\n",
    "years = [2012, 2013, 2014, 2015, 2016, 2017, 2018]\n",
    "tweets = [len(_2012),len(_2013),len(_2014),len(_2015),len(_2016),len(_2017),len(_2018)]"
   ]
  },
  {
   "cell_type": "code",
   "execution_count": null,
   "metadata": {},
   "outputs": [],
   "source": [
    "flickYear = [\n",
    "    [2012, 39607],\n",
    "    [2013, 29614],\n",
    "    [2014, 34281],\n",
    "    [2015, 23794],\n",
    "    [2016, 21660],\n",
    "    [2017, 19107],\n",
    "    [2018, 22575]\n",
    "]\n",
    "years = [2012, 2013, 2014, 2015, 2016, 2017, 2018]\n",
    "posts = [39607,29614,34281,23794,21660,19107,22575]"
   ]
  },
  {
   "cell_type": "code",
   "execution_count": null,
   "metadata": {},
   "outputs": [],
   "source": [
    "df = pd.DataFrame.from_records(flickYear)\n"
   ]
  },
  {
   "cell_type": "code",
   "execution_count": null,
   "metadata": {},
   "outputs": [],
   "source": [
    "df.rename(columns={0:'Year', 1:'Number of Posts'}, inplace = True)"
   ]
  },
  {
   "cell_type": "code",
   "execution_count": null,
   "metadata": {},
   "outputs": [],
   "source": [
    "# Plot the number of tweets per month --> enormous increase.\n",
    "\n",
    "%matplotlib inline\n",
    "plt.figure(figsize=(10,7))\n",
    "sns.set(style='darkgrid')\n",
    "sns.lineplot(x='Year', y='Number of Posts', markers=True, data=df)\n",
    "#, bbox_to_anchor=(1, 0.5), ncol=1\n",
    "plt.savefig('Images/TwitterYearlyActivity.png')\n"
   ]
  },
  {
   "cell_type": "code",
   "execution_count": null,
   "metadata": {},
   "outputs": [],
   "source": [
    "count = 0\n",
    "\n",
    "for i in posts:\n",
    "    \n",
    "    count += i\n",
    "\n",
    "print(count)"
   ]
  },
  {
   "cell_type": "code",
   "execution_count": null,
   "metadata": {},
   "outputs": [],
   "source": [
    "import numpy as np; np.random.seed(10)\n",
    "import seaborn as sns; sns.set(color_codes=True)\n",
    "mean, cov = [0, 2], [(1, .5), (.5, 1)]\n",
    "x, y = np.random.multivariate_normal(mean, cov, size=50).T\n",
    "ax = sns.kdeplot(x,bw=.15)"
   ]
  },
  {
   "cell_type": "code",
   "execution_count": null,
   "metadata": {},
   "outputs": [],
   "source": [
    "plt.figure(figsize=(15, 7))\n",
    "ax = sns.kdeplot(x,bw=.05, shade=True)\n",
    "ax = sns.kdeplot(x,bw=.70, shade=True, color=\"r\")\n",
    "ax.set(xlabel='', ylabel='Density')\n",
    "plt.savefig('Images/KDE_Example.png')\n"
   ]
  },
  {
   "cell_type": "code",
   "execution_count": null,
   "metadata": {},
   "outputs": [],
   "source": [
    "Data = pd.read_csv('Flickr2014.csv', sep= ',', low_memory = False, lineterminator='\\n')"
   ]
  },
  {
   "cell_type": "markdown",
   "metadata": {},
   "source": [
    "# Descriptive statistics about unique users and tourists for Twitter"
   ]
  },
  {
   "cell_type": "code",
   "execution_count": null,
   "metadata": {},
   "outputs": [],
   "source": [
    "# Tourists dataset\n",
    "Tourists = pd.read_csv('CSV/tourists_total.csv', sep= ',', low_memory = False, lineterminator='\\n')"
   ]
  },
  {
   "cell_type": "code",
   "execution_count": null,
   "metadata": {},
   "outputs": [],
   "source": [
    "listOfLang = list(Tourists['lang'].value_counts())"
   ]
  },
  {
   "cell_type": "code",
   "execution_count": null,
   "metadata": {},
   "outputs": [],
   "source": [
    "total = 0\n",
    "\n",
    "for i in listOfLang:\n",
    "    total += i"
   ]
  },
  {
   "cell_type": "code",
   "execution_count": null,
   "metadata": {},
   "outputs": [],
   "source": [
    "Tourists['lang'].value_counts()"
   ]
  },
  {
   "cell_type": "code",
   "execution_count": null,
   "metadata": {},
   "outputs": [],
   "source": [
    "40315 / total"
   ]
  },
  {
   "cell_type": "code",
   "execution_count": null,
   "metadata": {},
   "outputs": [],
   "source": [
    "24868 / total"
   ]
  },
  {
   "cell_type": "code",
   "execution_count": null,
   "metadata": {},
   "outputs": [],
   "source": [
    "0.46451739275714665 + 0.2865340077659611"
   ]
  },
  {
   "cell_type": "code",
   "execution_count": null,
   "metadata": {},
   "outputs": [],
   "source": [
    "Tourists['tweet_date'] = pd.to_datetime(Tourists['created_at_x'])"
   ]
  },
  {
   "cell_type": "markdown",
   "metadata": {},
   "source": [
    "#### Further inspect peak around december january"
   ]
  },
  {
   "cell_type": "code",
   "execution_count": null,
   "metadata": {},
   "outputs": [],
   "source": [
    "Jan = Tourists[Tourists['tweet_date'].dt.month < 2]"
   ]
  },
  {
   "cell_type": "code",
   "execution_count": null,
   "metadata": {},
   "outputs": [],
   "source": [
    "Dec = Tourists[Tourists['tweet_date'].dt.month > 11]"
   ]
  },
  {
   "cell_type": "code",
   "execution_count": null,
   "metadata": {},
   "outputs": [],
   "source": [
    "frames = [Jan, Dec]\n",
    "JanDec = pd.concat(frames)"
   ]
  },
  {
   "cell_type": "code",
   "execution_count": null,
   "metadata": {},
   "outputs": [],
   "source": [
    "NYEJan = Jan[Jan['tweet_date'].dt.day < 3]"
   ]
  },
  {
   "cell_type": "code",
   "execution_count": null,
   "metadata": {},
   "outputs": [],
   "source": [
    "NYEDec = Dec[Dec['tweet_date'].dt.day > 20]"
   ]
  },
  {
   "cell_type": "code",
   "execution_count": null,
   "metadata": {},
   "outputs": [],
   "source": [
    "frames = [NYEJan, NYEDec]\n",
    "NYEChristmas = pd.concat(frames)"
   ]
  },
  {
   "cell_type": "code",
   "execution_count": null,
   "metadata": {},
   "outputs": [],
   "source": [
    "len(NYEChristmas) / len(JanDec)"
   ]
  },
  {
   "cell_type": "code",
   "execution_count": null,
   "metadata": {},
   "outputs": [],
   "source": [
    "T2012 = Tourists[Tourists['tweet_date'].dt.year == 2012]\n",
    "T2013 = Tourists[Tourists['tweet_date'].dt.year == 2013]\n",
    "T2014 = Tourists[Tourists['tweet_date'].dt.year == 2014]\n",
    "T2015 = Tourists[Tourists['tweet_date'].dt.year == 2015]\n",
    "T2016 = Tourists[Tourists['tweet_date'].dt.year == 2016]\n",
    "T2017 = Tourists[Tourists['tweet_date'].dt.year == 2017]\n",
    "T2018 = Tourists[Tourists['tweet_date'].dt.year == 2018]"
   ]
  },
  {
   "cell_type": "code",
   "execution_count": null,
   "metadata": {},
   "outputs": [],
   "source": [
    "T2018['user_id'].nunique()"
   ]
  },
  {
   "cell_type": "code",
   "execution_count": null,
   "metadata": {},
   "outputs": [],
   "source": [
    "uniqueUsers = [\n",
    "    [2012,20057],\n",
    "    [2013,24331],\n",
    "    [2014,24202],\n",
    "    [2015,14770],\n",
    "    [2016,10615],\n",
    "    [2017, 9390],\n",
    "    [2018, 7066]\n",
    "]\n",
    "\n",
    "uniqueTourist = [\n",
    "    [2012,4351],\n",
    "    [2013,5297],\n",
    "    [2014,4998],\n",
    "    [2015,2533],\n",
    "    [2016,1385],\n",
    "    [2017,1061],\n",
    "    [2018,784]\n",
    "]"
   ]
  },
  {
   "cell_type": "code",
   "execution_count": null,
   "metadata": {},
   "outputs": [],
   "source": [
    "users = pd.DataFrame.from_records(uniqueUsers)\n",
    "tourists = pd.DataFrame.from_records(uniqueTourist)"
   ]
  },
  {
   "cell_type": "code",
   "execution_count": null,
   "metadata": {},
   "outputs": [],
   "source": [
    "users.rename(columns={0:'Year', 1:'Unique Users'}, inplace = True)\n",
    "tourists.rename(columns={0:'Year', 1:'Unique Users'}, inplace = True)"
   ]
  },
  {
   "cell_type": "code",
   "execution_count": null,
   "metadata": {},
   "outputs": [],
   "source": [
    "tables = [users, tourists]\n",
    "total = pd.concat(tables)"
   ]
  },
  {
   "cell_type": "code",
   "execution_count": null,
   "metadata": {},
   "outputs": [],
   "source": [
    "def nameTourists(x):\n",
    "    \n",
    "    name = ''\n",
    "    if x < 6000:\n",
    "        name = 'Tourists'\n",
    "    else:\n",
    "        name = 'Total'\n",
    "    return name\n",
    "        "
   ]
  },
  {
   "cell_type": "code",
   "execution_count": null,
   "metadata": {},
   "outputs": [],
   "source": [
    "# Create new  column\n",
    "total[''] = total['Unique Users'].map(lambda x: nameTourists(x))"
   ]
  },
  {
   "cell_type": "code",
   "execution_count": null,
   "metadata": {
    "scrolled": true
   },
   "outputs": [],
   "source": [
    "total"
   ]
  },
  {
   "cell_type": "code",
   "execution_count": null,
   "metadata": {
    "scrolled": true
   },
   "outputs": [],
   "source": [
    "# Plot the number of tweets per month --> enormous increase.\n",
    "%matplotlib inline\n",
    "sns.set(style='darkgrid')\n",
    "sns.lineplot(x='Year', y='Unique Users', markers=[\"o\"], data=users, legend='brief')\n",
    "sns.lineplot(x='Year', y='Unique Users', markers=[\"o\"], data=tourists, legend='brief')\n",
    "plt.xlabel(\"Year\") # label for x-axis\n",
    "plt.ylabel(\"Number of unique users\") # label for y-axis\n",
    "plt.show()"
   ]
  },
  {
   "cell_type": "code",
   "execution_count": null,
   "metadata": {},
   "outputs": [],
   "source": [
    "chart = sns.lineplot(x=\"Year\",\n",
    "                         y=\"Unique Users\",\n",
    "                         hue='',\n",
    "                         data=total\n",
    "                         )\n",
    "plt.show()"
   ]
  },
  {
   "cell_type": "markdown",
   "metadata": {},
   "source": [
    "# Descriptive statistics about unique users and tourists flickr"
   ]
  },
  {
   "cell_type": "code",
   "execution_count": null,
   "metadata": {},
   "outputs": [],
   "source": [
    "# Flickr dataset\n",
    "FlickrTotal = pd.read_csv('FlickrTotal.csv', sep= ',', low_memory = False, lineterminator='\\n')\n",
    "FlickrTourists = pd.read_csv('Flickr_Tourists.csv', sep= ',', low_memory = False, lineterminator='\\n')"
   ]
  },
  {
   "cell_type": "code",
   "execution_count": null,
   "metadata": {},
   "outputs": [],
   "source": [
    "FlickrTotal['postedTime'] = FlickrTotal['postedDate'].map(lambda x: datetime.fromtimestamp(x))\n",
    "FlickrTourists['postedTime'] = FlickrTourists['postedDate'].map(lambda x: datetime.fromtimestamp(x))\n",
    "FlickrTourists['postedTime'] = pd.to_datetime(FlickrTourists['postedTime'])"
   ]
  },
  {
   "cell_type": "code",
   "execution_count": null,
   "metadata": {},
   "outputs": [],
   "source": [
    "Flickr2012 = FlickrTotal[FlickrTotal['postedTime'].dt.year == 2012]\n",
    "Flickr2013 = FlickrTotal[FlickrTotal['postedTime'].dt.year == 2013]\n",
    "Flickr2014 = FlickrTotal[FlickrTotal['postedTime'].dt.year == 2014]\n",
    "Flickr2015 = FlickrTotal[FlickrTotal['postedTime'].dt.year == 2015]\n",
    "Flickr2016 = FlickrTotal[FlickrTotal['postedTime'].dt.year == 2016]\n",
    "Flickr2017 = FlickrTotal[FlickrTotal['postedTime'].dt.year == 2017]\n",
    "Flickr2018 = FlickrTotal[FlickrTotal['postedTime'].dt.year == 2018]\n",
    "\n",
    "FlickrT2012 = FlickrTourists[FlickrTourists['postedTime'].dt.year == 2012]\n",
    "FlickrT2013 = FlickrTourists[FlickrTourists['postedTime'].dt.year == 2013]\n",
    "FlickrT2014 = FlickrTourists[FlickrTourists['postedTime'].dt.year == 2014]\n",
    "FlickrT2015 = FlickrTourists[FlickrTourists['postedTime'].dt.year == 2015]\n",
    "FlickrT2016 = FlickrTourists[FlickrTourists['postedTime'].dt.year == 2016]\n",
    "FlickrT2017 = FlickrTourists[FlickrTourists['postedTime'].dt.year == 2017]\n",
    "FlickrT2018 = FlickrTourists[FlickrTourists['postedTime'].dt.year == 2018]\n",
    "\n"
   ]
  },
  {
   "cell_type": "code",
   "execution_count": null,
   "metadata": {},
   "outputs": [],
   "source": [
    "FlickrT2012['userID'].nunique()"
   ]
  },
  {
   "cell_type": "code",
   "execution_count": null,
   "metadata": {},
   "outputs": [],
   "source": [
    "uniqueFlickrUsers = [\n",
    "    [2012,1233],\n",
    "    [2013,1190],\n",
    "    [2014,1111],\n",
    "    [2015,1130],\n",
    "    [2016,1087],\n",
    "    [2017, 904],\n",
    "    [2018, 740]\n",
    "]\n",
    "\n",
    "uniqueFlickrTourist = [\n",
    "    [2012,276],\n",
    "    [2013,238],\n",
    "    [2014,201],\n",
    "    [2015,235],\n",
    "    [2016,191],\n",
    "    [2017,189],\n",
    "    [2018,143]\n",
    "]"
   ]
  },
  {
   "cell_type": "code",
   "execution_count": null,
   "metadata": {},
   "outputs": [],
   "source": [
    "count = 0\n",
    "\n",
    "for i in uniqueFlickrTourist:\n",
    "    count += i[1]\n",
    "print(count)"
   ]
  },
  {
   "cell_type": "markdown",
   "metadata": {},
   "source": [
    "#### Post distribution over time/week/year"
   ]
  },
  {
   "cell_type": "code",
   "execution_count": null,
   "metadata": {},
   "outputs": [],
   "source": [
    "# Create two new columns, one for tweet time the other for month.\n",
    "Tourists['tweet_hour'] = Tourists['tweet_date'].dt.hour\n",
    "Tourists['tweet_month'] = Tourists['tweet_date'].dt.month\n",
    "# Same for flickr\n",
    "FlickrTourists['post_hour'] = FlickrTourists['postedTime'].dt.hour\n",
    "FlickrTourists['post_month'] = FlickrTourists['postedTime'].dt.month\n"
   ]
  },
  {
   "cell_type": "code",
   "execution_count": null,
   "metadata": {},
   "outputs": [],
   "source": [
    "# Get tweets per month\n",
    "TweetsPerMonth = Tourists.groupby('tweet_month', as_index=False).count()\n",
    "# Get flickr posts per month\n",
    "FlickrPerMonth = FlickrTourists.groupby('post_month', as_index=False).count()"
   ]
  },
  {
   "cell_type": "code",
   "execution_count": null,
   "metadata": {},
   "outputs": [],
   "source": [
    "TweetsPerMonth"
   ]
  },
  {
   "cell_type": "code",
   "execution_count": null,
   "metadata": {},
   "outputs": [],
   "source": [
    "countFlickr = 0\n",
    "for i in list(FlickrPerMonth['latitude']):\n",
    "    \n",
    "    countFlickr += i\n",
    "print(countFlickr)"
   ]
  },
  {
   "cell_type": "code",
   "execution_count": null,
   "metadata": {},
   "outputs": [],
   "source": [
    "countTwitter = 0\n",
    "for i in list(TweetsPerMonth['item_number']):\n",
    "    \n",
    "    countTwitter += i\n",
    "print(countTwitter)"
   ]
  },
  {
   "cell_type": "code",
   "execution_count": null,
   "metadata": {},
   "outputs": [],
   "source": [
    "relativeTweetsPerMonth = []\n",
    "\n",
    "for i in list(TweetsPerMonth['item_number']):\n",
    "    \n",
    "    relativeTweetsPerMonth.append(i/117777)"
   ]
  },
  {
   "cell_type": "code",
   "execution_count": null,
   "metadata": {},
   "outputs": [],
   "source": [
    "relativeFlickrPerMonth = []\n",
    "\n",
    "for i in list(FlickrPerMonth['latitude']):\n",
    "    \n",
    "    relativeFlickrPerMonth.append(i/27806)"
   ]
  },
  {
   "cell_type": "code",
   "execution_count": null,
   "metadata": {},
   "outputs": [],
   "source": [
    "FlickrMonthly = {\"Month\":[1,2,3,4,5,6,7,8,9,10,11,12], \"Relative number of Tweets\": relativeFlickrPerMonth, \"Platform\": [\n",
    "    \"Flickr\",\"Flickr\",\"Flickr\",\"Flickr\",\"Flickr\",\"Flickr\",\"Flickr\",\"Flickr\",\"Flickr\",\"Flickr\",\"Flickr\",\"Flickr\"]\n",
    "}"
   ]
  },
  {
   "cell_type": "code",
   "execution_count": null,
   "metadata": {},
   "outputs": [],
   "source": [
    "TwitterMonthly = {\"Month\":[1,2,3,4,5,6,7,8,9,10,11,12], \"Relative number of Tweets\": relativeTweetsPerMonth, \"Platform\": [\n",
    "    \"Twitter\",\"Twitter\",\"Twitter\",\"Twitter\",\"Twitter\",\"Twitter\",\"Twitter\",\"Twitter\",\"Twitter\",\"Twitter\",\"Twitter\",\"Twitter\"]\n",
    "}"
   ]
  },
  {
   "cell_type": "code",
   "execution_count": null,
   "metadata": {},
   "outputs": [],
   "source": [
    "# Plot the number of tweets per month --> enormous increase.\n",
    "%matplotlib inline\n",
    "sns.set(style='darkgrid')\n",
    "sns.lineplot(x='Year', y='Unique Users', markers=[\"o\"], data=users, legend='brief')\n",
    "sns.lineplot(x='Year', y='Unique Users', markers=[\"o\"], data=tourists, legend='brief')\n",
    "plt.xlabel(\"Year\") # label for x-axis\n",
    "plt.ylabel(\"Number of unique users\") # label for y-axis\n",
    "plt.show()"
   ]
  },
  {
   "cell_type": "code",
   "execution_count": null,
   "metadata": {},
   "outputs": [],
   "source": [
    "RelativeMonthlyPosts = pd.DataFrame(TwitterMonthly) "
   ]
  },
  {
   "cell_type": "code",
   "execution_count": null,
   "metadata": {},
   "outputs": [],
   "source": [
    "RelativeMonthlyPostsFlickr = pd.DataFrame(FlickrMonthly) "
   ]
  },
  {
   "cell_type": "code",
   "execution_count": null,
   "metadata": {},
   "outputs": [],
   "source": [
    "RelativeMonthlyPosts = RelativeMonthlyPosts.append(RelativeMonthlyPostsFlickr)"
   ]
  },
  {
   "cell_type": "code",
   "execution_count": null,
   "metadata": {},
   "outputs": [],
   "source": [
    "RelativeMonthlyPosts = RelativeMonthlyPosts.rename(columns={'Relative number of Tweets':\"Relative number of posts\"})"
   ]
  },
  {
   "cell_type": "code",
   "execution_count": null,
   "metadata": {},
   "outputs": [],
   "source": [
    "plt.figure(figsize=(15,7))\n",
    "sns.set_style('darkgrid')\n",
    "chart = sns.lineplot(x=\"Month\",\n",
    "                         y=\"Relative number of posts\",\n",
    "                         hue='Platform',\n",
    "                         data=RelativeMonthlyPosts\n",
    "                         )\n",
    "\n",
    "chart.legend(loc='upper left', fancybox=True, framealpha=1, shadow=True, borderpad=1)\n",
    "plt.setp(chart.get_legend().get_texts(), fontsize='15') # for legend text\n",
    "plt.setp(chart.get_legend().get_title(), fontsize='10') # for legend title\n",
    "plt.rcParams[\"axes.labelsize\"] = 15\n",
    "#, bbox_to_anchor=(1, 0.5), ncol=1\n",
    "plt.savefig('Images/relativeMonthlyPosts.png')\n",
    "\n"
   ]
  },
  {
   "cell_type": "code",
   "execution_count": null,
   "metadata": {},
   "outputs": [],
   "source": [
    "# Get tweets per hour\n",
    "TweetsPerHour = Tourists.groupby('tweet_hour', as_index=False).count()\n",
    "# Get flickr posts per month\n",
    "FlickrPerHour = FlickrTourists.groupby('post_hour', as_index=False).count()"
   ]
  },
  {
   "cell_type": "code",
   "execution_count": null,
   "metadata": {},
   "outputs": [],
   "source": [
    "countHourFlickr = 0\n",
    "for i in list(FlickrPerHour['latitude']):\n",
    "    \n",
    "    countHourFlickr += i\n",
    "print(countHourFlickr)"
   ]
  },
  {
   "cell_type": "code",
   "execution_count": null,
   "metadata": {},
   "outputs": [],
   "source": [
    "countHourTwitter = 0\n",
    "for i in list(TweetsPerHour['item_number']):\n",
    "    \n",
    "    countHourTwitter += i\n",
    "print(countHourTwitter)"
   ]
  },
  {
   "cell_type": "code",
   "execution_count": null,
   "metadata": {},
   "outputs": [],
   "source": [
    "relativeTweetsPerHour = []\n",
    "\n",
    "for i in range(len(list(TweetsPerHour['item_number']))):\n",
    "    if i == 0:\n",
    "        relativeTweetsPerHour.append(TweetsPerHour['item_number'][23]/117777)\n",
    "    if i != 23:\n",
    "        relativeTweetsPerHour.append(TweetsPerHour['item_number'][i]/117777)"
   ]
  },
  {
   "cell_type": "code",
   "execution_count": null,
   "metadata": {},
   "outputs": [],
   "source": [
    "relativeTweetsPerHour"
   ]
  },
  {
   "cell_type": "code",
   "execution_count": null,
   "metadata": {},
   "outputs": [],
   "source": [
    "relativeFlickrPerHour = []\n",
    "\n",
    "for i in range(len(list(FlickrPerHour['latitude']))):\n",
    "    if i == 0:\n",
    "        relativeFlickrPerHour.append(FlickrPerHour['latitude'][23]/27806)\n",
    "    if i != 23:\n",
    "        relativeFlickrPerHour.append(FlickrPerHour['latitude'][i]/27806)"
   ]
  },
  {
   "cell_type": "code",
   "execution_count": null,
   "metadata": {},
   "outputs": [],
   "source": [
    "relativeFlickrPerHour"
   ]
  },
  {
   "cell_type": "code",
   "execution_count": null,
   "metadata": {},
   "outputs": [],
   "source": [
    "FlickrHourly = {\"Hour\":[0,1,2,3,4,5,6,7,8,9,10,11,12,13,14,15,16,17,18,19,20,21,22,23], \"Relative number of Posts\": relativeFlickrPerHour, \"Platform\": [\n",
    "    \"Flickr\",\"Flickr\",\"Flickr\",\"Flickr\",\"Flickr\",\"Flickr\",\"Flickr\",\"Flickr\",\"Flickr\",\"Flickr\",\"Flickr\",\"Flickr\",\n",
    "\"Flickr\",\"Flickr\",\"Flickr\",\"Flickr\",\"Flickr\",\"Flickr\",\"Flickr\",\"Flickr\",\"Flickr\",\"Flickr\",\"Flickr\",\"Flickr\"]\n",
    "}"
   ]
  },
  {
   "cell_type": "code",
   "execution_count": null,
   "metadata": {},
   "outputs": [],
   "source": [
    "TwitterHourly = {\"Hour\":[0,1,2,3,4,5,6,7,8,9,10,11,12,13,14,15,16,17,18,19,20,21,22,23], \"Relative number of Posts\": relativeTweetsPerHour, \"Platform\": [\n",
    "    \"Twitter\",\"Twitter\",\"Twitter\",\"Twitter\",\"Twitter\",\"Twitter\",\"Twitter\",\"Twitter\",\"Twitter\",\"Twitter\",\"Twitter\",\"Twitter\",\n",
    "\"Twitter\",\"Twitter\",\"Twitter\",\"Twitter\",\"Twitter\",\"Twitter\",\"Twitter\",\"Twitter\",\"Twitter\",\"Twitter\",\"Twitter\",\"Twitter\"]\n",
    "}"
   ]
  },
  {
   "cell_type": "code",
   "execution_count": null,
   "metadata": {},
   "outputs": [],
   "source": [
    "RelativeHourlyPosts = pd.DataFrame(TwitterHourly) "
   ]
  },
  {
   "cell_type": "code",
   "execution_count": null,
   "metadata": {},
   "outputs": [],
   "source": [
    "RelativeHourlyPostsFl = pd.DataFrame(FlickrHourly) "
   ]
  },
  {
   "cell_type": "code",
   "execution_count": null,
   "metadata": {},
   "outputs": [],
   "source": [
    "RelativeHourlyPosts = RelativeHourlyPosts.append(RelativeHourlyPostsFl)"
   ]
  },
  {
   "cell_type": "code",
   "execution_count": null,
   "metadata": {},
   "outputs": [],
   "source": [
    "plt.figure(figsize=(15,7))\n",
    "sns.set_style('darkgrid')\n",
    "chart = sns.lineplot(x=\"Hour\",\n",
    "                         y=\"Relative number of Posts\",\n",
    "                         hue='Platform',\n",
    "                         data=RelativeHourlyPosts\n",
    "                         )\n",
    "\n",
    "chart.legend(loc='upper left', fancybox=True, framealpha=1, shadow=True, borderpad=1)\n",
    "plt.setp(chart.get_legend().get_texts(), fontsize='15') # for legend text\n",
    "plt.setp(chart.get_legend().get_title(), fontsize='10') # for legend title\n",
    "\n",
    "#, bbox_to_anchor=(1, 0.5), ncol=1\n",
    "plt.savefig('Images/relativeHourlyPosts.png')\n",
    "\n"
   ]
  },
  {
   "cell_type": "markdown",
   "metadata": {},
   "source": [
    "# Some stats about the average number of posts, time between posts etc"
   ]
  },
  {
   "cell_type": "code",
   "execution_count": null,
   "metadata": {},
   "outputs": [],
   "source": [
    "Tourists.head(2)"
   ]
  },
  {
   "cell_type": "code",
   "execution_count": null,
   "metadata": {},
   "outputs": [],
   "source": [
    "print('unique users: {}'.format(Tourists['user_id'].nunique()))\n",
    "print('tweets per user: {}'.format(len(Tourists) / Tourists['user_id'].nunique()))"
   ]
  },
  {
   "cell_type": "code",
   "execution_count": null,
   "metadata": {
    "scrolled": true
   },
   "outputs": [],
   "source": [
    "print('unique users: {}'.format(FlickrTourists['userID'].nunique()))\n",
    "print('flickr posts per user: {}'.format(len(FlickrTourists) / FlickrTourists['userID'].nunique()))"
   ]
  },
  {
   "cell_type": "markdown",
   "metadata": {},
   "source": [
    "#### Get average time between first and last posts"
   ]
  },
  {
   "cell_type": "code",
   "execution_count": null,
   "metadata": {},
   "outputs": [],
   "source": [
    "# Get all the unique users and put them in a list\n",
    "UniqueUsers = FlickrTourists['userID'].unique()"
   ]
  },
  {
   "cell_type": "code",
   "execution_count": null,
   "metadata": {},
   "outputs": [],
   "source": [
    "FlickrFirstLast = []"
   ]
  },
  {
   "cell_type": "code",
   "execution_count": null,
   "metadata": {},
   "outputs": [],
   "source": [
    "FlickrFirstLast"
   ]
  },
  {
   "cell_type": "code",
   "execution_count": null,
   "metadata": {},
   "outputs": [],
   "source": [
    "# In this loop, get the average time between first and last post\n",
    "for i in UniqueUsers:\n",
    "    \n",
    "    \n",
    "    # Get all the tweets for this particular user.\n",
    "    TweetsForThisUser = FlickrTourists[FlickrTourists['userID'] == i]\n",
    "    numberOfTweets = len(TweetsForThisUser)\n",
    "    \n",
    "    # Only continue when there are more than 1 tweets.\n",
    "    if numberOfTweets > 1:\n",
    "        \n",
    "        # Sort the tweets and get the first and last tweet of a user.\n",
    "        TweetsForThisUser = TweetsForThisUser.sort_values(by='postedTime')\n",
    "        FirstAndLast = TweetsForThisUser.iloc[[0, -1]]\n",
    "        \n",
    "        # Get the difference in days between the first and last tweet.\n",
    "        secondsDelta = (FirstAndLast['postedTime'].iloc[0] - FirstAndLast['postedTime'].iloc[1]).seconds\n",
    "        \n",
    "        FlickrFirstLast.append([secondsDelta, numberOfTweets])\n",
    "        \n",
    "    else:\n",
    "        continue"
   ]
  },
  {
   "cell_type": "code",
   "execution_count": null,
   "metadata": {},
   "outputs": [],
   "source": [
    "FlickrTimeBetweenFirstLast = []"
   ]
  },
  {
   "cell_type": "code",
   "execution_count": null,
   "metadata": {},
   "outputs": [],
   "source": [
    "for i in FlickrFirstLast:\n",
    "    FlickrTimeBetweenFirstLast.append(i[0])"
   ]
  },
  {
   "cell_type": "code",
   "execution_count": null,
   "metadata": {},
   "outputs": [],
   "source": [
    "len(FlickrTimeBetweenFirstLast)"
   ]
  },
  {
   "cell_type": "code",
   "execution_count": null,
   "metadata": {},
   "outputs": [],
   "source": [
    "count = 0\n",
    "\n",
    "for i in FlickrTimeBetweenFirstLast:\n",
    "    count += i\n",
    "    \n",
    "count = count / 1471"
   ]
  },
  {
   "cell_type": "code",
   "execution_count": null,
   "metadata": {},
   "outputs": [],
   "source": [
    "count"
   ]
  },
  {
   "cell_type": "code",
   "execution_count": null,
   "metadata": {},
   "outputs": [],
   "source": [
    "intervals = (\n",
    "    ('weeks', 604800),  # 60 * 60 * 24 * 7\n",
    "    ('days', 86400),    # 60 * 60 * 24\n",
    "    ('hours', 3600),    # 60 * 60\n",
    "    ('minutes', 60),\n",
    "    ('seconds', 1),\n",
    "    )\n",
    "\n",
    "def display_time(seconds, granularity=2):\n",
    "    result = []\n",
    "\n",
    "    for name, count in intervals:\n",
    "        value = seconds // count\n",
    "        if value:\n",
    "            seconds -= value * count\n",
    "            if value == 1:\n",
    "                name = name.rstrip('s')\n",
    "            result.append(\"{} {}\".format(value, name))\n",
    "    return ', '.join(result[:granularity])"
   ]
  },
  {
   "cell_type": "code",
   "execution_count": null,
   "metadata": {},
   "outputs": [],
   "source": [
    "display_time(count)"
   ]
  },
  {
   "cell_type": "code",
   "execution_count": null,
   "metadata": {},
   "outputs": [],
   "source": [
    "TwitterFirstLast"
   ]
  },
  {
   "cell_type": "code",
   "execution_count": null,
   "metadata": {},
   "outputs": [],
   "source": [
    "FlickrTimeBetweenPosts = []"
   ]
  },
  {
   "cell_type": "code",
   "execution_count": null,
   "metadata": {},
   "outputs": [],
   "source": [
    "for i in FlickrFirstLast:\n",
    "    FlickrTimeBetweenPosts.append(i[0]/i[1])"
   ]
  },
  {
   "cell_type": "code",
   "execution_count": null,
   "metadata": {},
   "outputs": [],
   "source": [
    "tbetween = 0\n",
    "\n",
    "for i in FlickrTimeBetweenPosts:\n",
    "    tbetween += i\n",
    "\n",
    "tbetween = tbetween/1471\n"
   ]
  },
  {
   "cell_type": "code",
   "execution_count": null,
   "metadata": {},
   "outputs": [],
   "source": [
    "display_time(tbetween)"
   ]
  },
  {
   "cell_type": "code",
   "execution_count": null,
   "metadata": {},
   "outputs": [],
   "source": [
    "FlickrTimeBetweenPosts"
   ]
  },
  {
   "cell_type": "markdown",
   "metadata": {},
   "source": [
    "# Get some stats about number of titles and number of descriptions"
   ]
  },
  {
   "cell_type": "code",
   "execution_count": null,
   "metadata": {},
   "outputs": [],
   "source": [
    "TouristsFlickr = pd.read_csv('Flickr_Tourists.csv', sep= ',', low_memory = False, lineterminator='\\n')"
   ]
  },
  {
   "cell_type": "code",
   "execution_count": null,
   "metadata": {},
   "outputs": [],
   "source": [
    "TouristsFlickr.shape"
   ]
  },
  {
   "cell_type": "code",
   "execution_count": null,
   "metadata": {},
   "outputs": [],
   "source": [
    "# Tourists dataset\n",
    "Tourists = pd.read_csv('tourists_total.csv', sep= ',', low_memory = False, lineterminator='\\n')"
   ]
  },
  {
   "cell_type": "code",
   "execution_count": null,
   "metadata": {},
   "outputs": [],
   "source": [
    "Tourists.shape"
   ]
  },
  {
   "cell_type": "code",
   "execution_count": null,
   "metadata": {},
   "outputs": [],
   "source": [
    "FlickrDescription = TouristsFlickr[TouristsFlickr['description'].isnull() == False]"
   ]
  },
  {
   "cell_type": "code",
   "execution_count": null,
   "metadata": {},
   "outputs": [],
   "source": [
    "TouristsFlickr['title'].isnull().value_counts()"
   ]
  },
  {
   "cell_type": "code",
   "execution_count": null,
   "metadata": {},
   "outputs": [],
   "source": [
    "Tourists[Tourists['text'] == ' ']"
   ]
  },
  {
   "cell_type": "code",
   "execution_count": null,
   "metadata": {},
   "outputs": [],
   "source": [
    "FlickrLDA = FlickrDescription[FlickrDescription['title'].isnull() == False]"
   ]
  },
  {
   "cell_type": "code",
   "execution_count": null,
   "metadata": {},
   "outputs": [],
   "source": [
    "# Create a list to store the average number of words in\n",
    "NumberOfWords = []"
   ]
  },
  {
   "cell_type": "code",
   "execution_count": null,
   "metadata": {},
   "outputs": [],
   "source": [
    "# Iterate over FlickrLDA to get the average number of words\n",
    "for index, row in FlickrLDA.iterrows():\n",
    "    numberOfWords = 0\n",
    "    \n",
    "    titleCount = row['title'].count(' ')\n",
    "    descriptionCount = row['description'].count(' ')\n",
    "    numberOfWords = titleCount + descriptionCount\n",
    "    \n",
    "    # Add to list\n",
    "    NumberOfWords.append(numberOfWords)"
   ]
  },
  {
   "cell_type": "code",
   "execution_count": null,
   "metadata": {},
   "outputs": [],
   "source": [
    "total = 0\n",
    "for i in NumberOfWords:\n",
    "    total += i"
   ]
  },
  {
   "cell_type": "code",
   "execution_count": null,
   "metadata": {},
   "outputs": [],
   "source": [
    "total"
   ]
  },
  {
   "cell_type": "code",
   "execution_count": null,
   "metadata": {},
   "outputs": [],
   "source": [
    "total / len(NumberOfWords)"
   ]
  },
  {
   "cell_type": "code",
   "execution_count": null,
   "metadata": {},
   "outputs": [],
   "source": [
    "# Create a list to store the average number of words in\n",
    "NumberOfWordsT = []"
   ]
  },
  {
   "cell_type": "code",
   "execution_count": null,
   "metadata": {},
   "outputs": [],
   "source": [
    "# Iterate over FlickrLDA to get the average number of words\n",
    "for index, row in Tourists.iterrows():\n",
    "    numberOfWords = row['text'].count(' ')\n",
    "    \n",
    "    # Add to list\n",
    "    NumberOfWordsT.append(numberOfWords)"
   ]
  },
  {
   "cell_type": "code",
   "execution_count": null,
   "metadata": {},
   "outputs": [],
   "source": [
    "totalT = 0\n",
    "for i in NumberOfWordsT:\n",
    "    totalT += i"
   ]
  },
  {
   "cell_type": "code",
   "execution_count": null,
   "metadata": {},
   "outputs": [],
   "source": [
    "totalT"
   ]
  },
  {
   "cell_type": "code",
   "execution_count": null,
   "metadata": {},
   "outputs": [],
   "source": [
    "totalT / len(NumberOfWordsT)"
   ]
  },
  {
   "cell_type": "code",
   "execution_count": null,
   "metadata": {},
   "outputs": [],
   "source": [
    "len(NumberOfWordsT)"
   ]
  },
  {
   "cell_type": "code",
   "execution_count": null,
   "metadata": {},
   "outputs": [],
   "source": [
    "FlickrLDA.to_csv('FlickrLDA.csv', index=False)"
   ]
  },
  {
   "cell_type": "code",
   "execution_count": null,
   "metadata": {},
   "outputs": [],
   "source": [
    "# Hashtag dataset\n",
    "HashtagData = pd.read_csv('TwitterHashtags_LDA.csv', sep= ',', low_memory = False, lineterminator='\\n')"
   ]
  },
  {
   "cell_type": "code",
   "execution_count": null,
   "metadata": {},
   "outputs": [],
   "source": [
    "# Create a list to store the average number of words in\n",
    "NumberOfWords = []"
   ]
  },
  {
   "cell_type": "code",
   "execution_count": null,
   "metadata": {},
   "outputs": [],
   "source": [
    "# Iterate over FlickrLDA to get the average number of words\n",
    "for index, row in HashtagData.iterrows():\n",
    "    numberOfWords = 0\n",
    "    \n",
    "    titleCount = row['title'].count(' ')\n",
    "    descriptionCount = \n",
    "    numberOfWords = row['description'].count(' ')\n",
    "    \n",
    "    # Add to list\n",
    "    NumberOfWords.append(numberOfWords)"
   ]
  }
 ],
 "metadata": {
  "kernelspec": {
   "display_name": "Python 3",
   "language": "python",
   "name": "python3"
  },
  "language_info": {
   "codemirror_mode": {
    "name": "ipython",
    "version": 3
   },
   "file_extension": ".py",
   "mimetype": "text/x-python",
   "name": "python",
   "nbconvert_exporter": "python",
   "pygments_lexer": "ipython3",
   "version": "3.7.6"
  }
 },
 "nbformat": 4,
 "nbformat_minor": 4
}

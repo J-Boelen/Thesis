{
 "cells": [
  {
   "cell_type": "markdown",
   "metadata": {},
   "source": [
    "# Importing required packages"
   ]
  },
  {
   "cell_type": "code",
   "execution_count": null,
   "metadata": {},
   "outputs": [],
   "source": [
    "# Importing packages\n",
    "import numpy as np\n",
    "import pandas as pd\n",
    "import urllib.request\n",
    "import time\n",
    "import random\n",
    "import string\n",
    "import urllib.parse\n",
    "import hashlib\n",
    "import hmac\n",
    "import base64\n",
    "import requests\n",
    "import webbrowser\n",
    "import sys\n",
    "from requests.auth import HTTPBasicAuth\n",
    "from datetime import datetime\n",
    "from datetime import timedelta\n",
    "import json"
   ]
  },
  {
   "cell_type": "markdown",
   "metadata": {},
   "source": [
    "# Importing the dataset and making some small changes"
   ]
  },
  {
   "cell_type": "code",
   "execution_count": null,
   "metadata": {},
   "outputs": [],
   "source": [
    "# Import the dataset\n",
    "Tourists = pd.read_csv('tourists_total_themes.csv', sep= ',', low_memory = False, lineterminator='\\n')"
   ]
  },
  {
   "cell_type": "code",
   "execution_count": null,
   "metadata": {},
   "outputs": [],
   "source": [
    "# Making sure the dataset corresponds with the one used in R.\n",
    "\n",
    "Tourists = Tourists[Tourists['geo_lon'] > 4]\n",
    "Tourists[\"unique\"] = Tourists[\"geo_lon\"].map(str) + Tourists[\"geo_lat\"].map(str)\n",
    "\n",
    "# Drop everything that has more than 200.\n",
    "Tourists = Tourists[Tourists['unique'] != \"4.551.9167\"]\n",
    "Tourists = Tourists[Tourists['unique'] != \"4.475251.9235\"]\n",
    "Tourists = Tourists[Tourists['unique'] != \"4.4694936351.92508148\"]\n",
    "Tourists = Tourists[Tourists['unique'] != \"4.4784751.92286\"]\n",
    "\n",
    "# Drop the unique column\n",
    "Tourists = Tourists.drop(columns=('unique'))"
   ]
  },
  {
   "cell_type": "code",
   "execution_count": null,
   "metadata": {},
   "outputs": [],
   "source": [
    "Tourists.head()"
   ]
  },
  {
   "cell_type": "markdown",
   "metadata": {},
   "source": [
    "# Mapping the tweets to the identified clusters in the heatmap"
   ]
  },
  {
   "cell_type": "markdown",
   "metadata": {},
   "source": [
    "I identified 6 clusters in R, which are the following:\n",
    "1: Rotterdam airport\n",
    "2: Rotterdam city center\n",
    "3: Rotterdam Blaak\n",
    "4: Erasmus bridge / katendrecht\n",
    "5: Ahoy\n",
    "6: Feyenoord stadium\n",
    "Using the shiny, leaflet and leaflet.extra packages in R, I am able to get the coordinates of each of the clusters.\n"
   ]
  },
  {
   "cell_type": "code",
   "execution_count": null,
   "metadata": {},
   "outputs": [],
   "source": [
    "# Coordinates are given as follows: [upperLeft, upperRight, lowerLeft, lowerRight] in which upperLeft [lon, lat]\n",
    "Airport = [\n",
    "    [4.430966, 51.94635],\n",
    "    [4.430966, 51.95143],\n",
    "    [4.438562, 51.95143],\n",
    "    [4.438562, 51.94635]\n",
    "]\n",
    "\n",
    "Blijdorp = [\n",
    "    [4.43676, 51.9222],\n",
    "    [4.43676, 51.93204],\n",
    "    [4.457188, 51.93204],\n",
    "    [4.457188, 51.9222]\n",
    "]\n",
    "\n",
    "CityCenter = [\n",
    "    [4.464054, 51.91664],\n",
    "    [4.464054, 51.92855],\n",
    "    [4.482336, 51.92855],\n",
    "    [4.482336, 51.91664]\n",
    "]\n",
    "\n",
    "Blaak = [\n",
    "    [4.482937, 51.91579],\n",
    "    [4.482937, 51.92474],\n",
    "    [4.495983, 51.92474],\n",
    "    [4.495983, 51.91579]\n",
    "]\n",
    "\n",
    "Euromast = [\n",
    "    [4.462423, 51.90192],\n",
    "    [4.462423, 51.90949],\n",
    "    [4.470921, 51.90949],\n",
    "    [4.470921, 51.90192]\n",
    "]\n",
    "\n",
    "KopVanZuid = [\n",
    "    [4.468431, 51.90033],\n",
    "    [4.488688, 51.91219],\n",
    "    [4.498129, 51.90658],\n",
    "    [4.474182, 51.8936]\n",
    "]\n",
    "\n",
    "Ahoy = [\n",
    "    [4.481564, 51.87898],\n",
    "    [4.481564, 51.88693],\n",
    "    [4.494824, 51.88693],\n",
    "    [4.494824, 51.87898]\n",
    "]\n",
    "\n",
    "Feyenoord = [\n",
    "    [4.518728, 51.89021],\n",
    "    [4.518728, 51.89702],\n",
    "    [4.529586, 51.89702],\n",
    "    [4.529586, 51.89021]\n",
    "]"
   ]
  },
  {
   "cell_type": "markdown",
   "metadata": {},
   "source": [
    "#### Now, each tweet can be assigned to a cluster based on the cluster coordinates defined above. "
   ]
  },
  {
   "cell_type": "code",
   "execution_count": null,
   "metadata": {},
   "outputs": [],
   "source": [
    "# First, create arrays with the min and max values of lon and lat\n",
    "AirportMinMax = [4.430966, 4.438562, 51.94635, 51.95143] #[minLon, maxLon, minLat, maxLat]\n",
    "BlijdorpMinMax = [4.43676, 4.457188, 51.9222, 51.93204]\n",
    "CityMinMax = [4.464054, 4.482336, 51.91664, 51.92855]\n",
    "BlaakMinMax = [4.482937, 4.495983, 51.91579, 51.92474]\n",
    "EuromastMinMax = [4.462423, 4.470921, 51.90192, 51.90949]\n",
    "AhoyMinMax = [4.481564, 4.494824, 51.87898, 51.88693]\n",
    "FeyenoordMinMax = [4.518728, 4.529586, 51.89021, 51.89702]"
   ]
  },
  {
   "cell_type": "markdown",
   "metadata": {},
   "source": [
    "#### Kop van Zuid requires a different approach"
   ]
  },
  {
   "cell_type": "code",
   "execution_count": null,
   "metadata": {},
   "outputs": [],
   "source": [
    "# Construct two functions for kop van zuid\n",
    "slopeUpperLine = (KopVanZuid[1][1] - KopVanZuid[0][1]) / (KopVanZuid[1][0] - KopVanZuid[0][0])\n",
    "slopeLowerLine = (KopVanZuid[2][1] - KopVanZuid[3][1]) / (KopVanZuid[2][0] - KopVanZuid[3][0])\n",
    "\n",
    "interceptUpperline = KopVanZuid[0][1] - (slopeUpperLine * KopVanZuid[0][0])\n",
    "interceptLowerLine = KopVanZuid[3][1] - (slopeLowerLine * KopVanZuid[3][0])"
   ]
  },
  {
   "cell_type": "markdown",
   "metadata": {},
   "source": [
    "#### Define two functions, one for the upperline function, one for the lowerline function of the erasmusbridge cluster"
   ]
  },
  {
   "cell_type": "code",
   "execution_count": null,
   "metadata": {},
   "outputs": [],
   "source": [
    "# Calculate the value of the latitude of the upperline at a certain longitude value\n",
    "def getUpperLine(lon):\n",
    "    lat = lon * slopeUpperLine + interceptUpperline\n",
    "    return lat"
   ]
  },
  {
   "cell_type": "code",
   "execution_count": null,
   "metadata": {},
   "outputs": [],
   "source": [
    "# Calculate the value of the latitude of the lowerline at a certain longitude value\n",
    "def getLowerLine(lon):\n",
    "    lat = lon * slopeLowerLine + interceptLowerLine\n",
    "    return lat"
   ]
  },
  {
   "cell_type": "markdown",
   "metadata": {},
   "source": [
    "#### A function to assign each tweet to a cluster based on the clustervalues defined above"
   ]
  },
  {
   "cell_type": "code",
   "execution_count": null,
   "metadata": {},
   "outputs": [],
   "source": [
    "def assignCluster(lon, lat):\n",
    "    \n",
    "    cluster = 'None'\n",
    "    \n",
    "    # Belongs to airport?\n",
    "    if (lon >= AirportMinMax[0] and lon <= AirportMinMax[1]) and (lat >= AirportMinMax[2] and lat <= AirportMinMax[3]):\n",
    "        cluster = 'Rotterdam The Hague Airport'\n",
    "    \n",
    "    # Belongs to Blijdorp?\n",
    "    if (lon >= BlijdorpMinMax[0] and lon <= BlijdorpMinMax[1]) and (lat >= BlijdorpMinMax[2] and lat <= BlijdorpMinMax[3]):\n",
    "        cluster = 'Blijdorp Zoo'\n",
    "            \n",
    "    # Belongs to City?  \n",
    "    if (lon >= CityMinMax[0] and lon <= CityMinMax[1]) and (lat >= CityMinMax[2] and lat <= CityMinMax[3]):\n",
    "        cluster = 'City Center'\n",
    "    \n",
    "    # Belongs to Blaak?\n",
    "    if (lon >= BlaakMinMax[0] and lon <= BlaakMinMax[1]) and (lat >= BlaakMinMax[2] and lat <= BlaakMinMax[3]):\n",
    "        cluster = 'Blaak'\n",
    "    \n",
    "    # Belongs to Euromast?\n",
    "    if (lon >= EuromastMinMax[0] and lon <= EuromastMinMax[1]) and (lat >= EuromastMinMax[2] and lat <= EuromastMinMax[3]):\n",
    "        cluster = 'Euromast'\n",
    "        \n",
    "    # Belongs to Kop van Zuid?\n",
    "    if (lon >= KopVanZuid[0][0] and lon <= KopVanZuid[1][0]) and (getUpperLine(lon) >= lat and getLowerLine(lon) <= lat):\n",
    "        cluster = 'Kop van Zuid'\n",
    "    \n",
    "    # Belongs to Ahoy?\n",
    "    if (lon >= AhoyMinMax[0] and lon <= AhoyMinMax[1]) and (lat >= AhoyMinMax[2] and lat <= AhoyMinMax[3]):\n",
    "        cluster = 'Rotterdam Ahoy'\n",
    "    \n",
    "    # Belongs to Feyenoord?\n",
    "    if (lon >= FeyenoordMinMax[0] and lon <= FeyenoordMinMax[1]) and (lat >= FeyenoordMinMax[2] and lat <= FeyenoordMinMax[3]):\n",
    "        cluster = 'Feyenoord Stadium'\n",
    "    \n",
    "    \n",
    "    \n",
    "    return cluster       "
   ]
  },
  {
   "cell_type": "code",
   "execution_count": null,
   "metadata": {},
   "outputs": [],
   "source": [
    "# Use an apply and lambda function assign the cluster to each tweet\n",
    "Tourists['cluster'] = Tourists.apply(lambda x: assignCluster(x['geo_lon'],x['geo_lat']),axis=1)"
   ]
  },
  {
   "cell_type": "code",
   "execution_count": null,
   "metadata": {},
   "outputs": [],
   "source": [
    "# See the distribution among the clusters\n",
    "Tourists['cluster'].value_counts()"
   ]
  },
  {
   "cell_type": "code",
   "execution_count": null,
   "metadata": {},
   "outputs": [],
   "source": [
    "# Create CSV for later usage.\n",
    "Tourists.to_csv('CSV/tourists_clustered.csv', index=False)"
   ]
  },
  {
   "cell_type": "code",
   "execution_count": null,
   "metadata": {},
   "outputs": [],
   "source": [
    "# Create the photo dataset and do the same.\n",
    "Tourists_Attach = pd.read_csv('CSV/tourists_attachments.csv', sep= ',', low_memory = False, lineterminator='\\n')\n",
    "TouristsFlickr = pd.read_csv('CSV/Flickr_Tourists.csv', sep= ',', low_memory = False, lineterminator='\\n')\n",
    "\n",
    "TouristsFlickr.rename(columns ={'longitude':'geo_lon', 'latitude':'geo_lat'}, inplace=True)\n",
    "\n",
    "Photoset_Flickr = TouristsFlickr[['photoID','photoSecret','geo_lon','geo_lat']]\n",
    "\n",
    "Photoset_Twitter = Tourists_Attach[['item_number','geo_lon','geo_lat']]\n",
    "\n",
    "frames = [Photoset_Flickr, Photoset_Twitter]\n",
    "Photoset = pd.concat(frames)"
   ]
  },
  {
   "cell_type": "code",
   "execution_count": null,
   "metadata": {},
   "outputs": [],
   "source": [
    "# Use an apply and lambda function assign the cluster to each tweet\n",
    "Photoset['cluster'] = Photoset.apply(lambda x: assignCluster(x['geo_lon'],x['geo_lat']),axis=1)"
   ]
  },
  {
   "cell_type": "code",
   "execution_count": null,
   "metadata": {
    "scrolled": true
   },
   "outputs": [],
   "source": [
    "# See the distribution among the clusters\n",
    "Photoset['cluster'].value_counts()"
   ]
  },
  {
   "cell_type": "code",
   "execution_count": null,
   "metadata": {},
   "outputs": [],
   "source": [
    "# Create CSV for later usage.\n",
    "Photoset.to_csv('CSV/photo_dataset_clustered.csv', index=False)"
   ]
  },
  {
   "cell_type": "markdown",
   "metadata": {},
   "source": [
    "# Descriptive statistics on the themes"
   ]
  },
  {
   "cell_type": "code",
   "execution_count": null,
   "metadata": {},
   "outputs": [],
   "source": [
    "# Creating dataframes for all clusters.\n",
    "Tourists_Airport = Tourists[Tourists['cluster'] == 'Rotterdam The Hague Airport']\n",
    "Tourists_Blijdorp = Tourists[Tourists['cluster'] == 'Blijdorp Zoo']\n",
    "Tourists_City = Tourists[Tourists['cluster'] == 'City Center']\n",
    "Tourists_Blaak = Tourists[Tourists['cluster'] == 'Blaak']\n",
    "Tourists_Euromast = Tourists[Tourists['cluster'] == 'Euromast']\n",
    "Tourists_KvZ = Tourists[Tourists['cluster'] == 'Kop van Zuid']\n",
    "Tourists_Ahoy = Tourists[Tourists['cluster'] == 'Rotterdam Ahoy']\n",
    "Tourists_Feyenoord = Tourists[Tourists['cluster'] == 'Feyenoord Stadium']"
   ]
  },
  {
   "cell_type": "code",
   "execution_count": null,
   "metadata": {},
   "outputs": [],
   "source": [
    "# Get total number of themes.\n",
    "total = 0\n",
    "for i in list(Tourists_Blijdorp['theme'].value_counts()):\n",
    "    total += i\n",
    "total"
   ]
  },
  {
   "cell_type": "code",
   "execution_count": null,
   "metadata": {},
   "outputs": [],
   "source": [
    "Tourists_Blijdorp['theme'].value_counts()"
   ]
  },
  {
   "cell_type": "markdown",
   "metadata": {},
   "source": [
    "# Randomly selecting photos per cluster"
   ]
  },
  {
   "cell_type": "code",
   "execution_count": null,
   "metadata": {},
   "outputs": [],
   "source": [
    "# Creating dataframes for all clusters.\n",
    "Photo_Airport = Photoset[Photoset['cluster'] == 'Rotterdam The Hague Airport']\n",
    "Photo_Blijdorp = Photoset[Photoset['cluster'] == 'Blijdorp Zoo']\n",
    "Photo_City = Photoset[Photoset['cluster'] == 'City Center']\n",
    "Photo_Blaak = Photoset[Photoset['cluster'] == 'Blaak']\n",
    "Photo_Euromast = Photoset[Photoset['cluster'] == 'Euromast']\n",
    "Photo_KvZ = Photoset[Photoset['cluster'] == 'Kop van Zuid']\n",
    "Photo_Ahoy = Photoset[Photoset['cluster'] == 'Rotterdam Ahoy']\n",
    "Photo_Feyenoord = Photoset[Photoset['cluster'] == 'Feyenoord Stadium']"
   ]
  },
  {
   "cell_type": "code",
   "execution_count": null,
   "metadata": {
    "scrolled": false
   },
   "outputs": [],
   "source": [
    "Photo_Feyenoord[Photo_Feyenoord['photoID'].isnull() == False].sample(n=5)"
   ]
  },
  {
   "cell_type": "code",
   "execution_count": null,
   "metadata": {},
   "outputs": [],
   "source": [
    "# Get the dataset with the links to the photos for twitter.\n",
    "PhotoID_Twitter = pd.read_csv('CSV/TwitterPhotoIDs.csv', sep= ',', low_memory = False, lineterminator='\\n')"
   ]
  },
  {
   "cell_type": "code",
   "execution_count": null,
   "metadata": {},
   "outputs": [],
   "source": [
    "PhotoID_Twitter.loc[PhotoID_Twitter['item_number'] == 580943.0]['media_url']"
   ]
  },
  {
   "cell_type": "code",
   "execution_count": null,
   "metadata": {
    "scrolled": true
   },
   "outputs": [],
   "source": [
    "# Use the Flickr API to retrieve Flickr photos\n",
    "print('photoID: {}'.format(Photo_Feyenoord.loc[13355]['photoID']))\n",
    "print('photo secret: {}'.format(Photo_Feyenoord.loc[13355]['photoSecret']))"
   ]
  }
 ],
 "metadata": {
  "kernelspec": {
   "display_name": "Python 3",
   "language": "python",
   "name": "python3"
  },
  "language_info": {
   "codemirror_mode": {
    "name": "ipython",
    "version": 3
   },
   "file_extension": ".py",
   "mimetype": "text/x-python",
   "name": "python",
   "nbconvert_exporter": "python",
   "pygments_lexer": "ipython3",
   "version": "3.7.6"
  }
 },
 "nbformat": 4,
 "nbformat_minor": 4
}

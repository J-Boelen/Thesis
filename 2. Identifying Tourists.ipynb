{
 "cells": [
  {
   "cell_type": "markdown",
   "metadata": {},
   "source": [
    "# Importing the necessary packages"
   ]
  },
  {
   "cell_type": "code",
   "execution_count": null,
   "metadata": {},
   "outputs": [],
   "source": [
    "# Import the necessary packages\n",
    "import numpy as np\n",
    "import pandas as pd\n",
    "import matplotlib.pyplot as plt\n",
    "import seaborn as sns\n",
    "import datetime"
   ]
  },
  {
   "cell_type": "markdown",
   "metadata": {},
   "source": [
    "# Import the data"
   ]
  },
  {
   "cell_type": "code",
   "execution_count": null,
   "metadata": {},
   "outputs": [],
   "source": [
    "# Importing the csv file created with the data preparation jupyter notebook.\n",
    "Rotterdam = pd.read_csv('2015.csv', sep= ',', low_memory = False, lineterminator='\\n')\n",
    "RotterdamFlickr = pd.read_csv('FlickrTotal.csv', sep= ',', low_memory = False, lineterminator='\\n')"
   ]
  },
  {
   "cell_type": "code",
   "execution_count": null,
   "metadata": {},
   "outputs": [],
   "source": [
    "Rotterdam.dtypes"
   ]
  },
  {
   "cell_type": "markdown",
   "metadata": {},
   "source": [
    "# Descriptive statistics"
   ]
  },
  {
   "cell_type": "code",
   "execution_count": null,
   "metadata": {},
   "outputs": [],
   "source": [
    "# Get the number of unique users.\n",
    "Rotterdam['user_id'].nunique()"
   ]
  },
  {
   "cell_type": "code",
   "execution_count": null,
   "metadata": {},
   "outputs": [],
   "source": [
    "# Average number of tweets per user\n",
    "len(Rotterdam.index) / Rotterdam['user_id'].nunique()"
   ]
  },
  {
   "cell_type": "code",
   "execution_count": null,
   "metadata": {},
   "outputs": [],
   "source": [
    "Rotterdam.shape"
   ]
  },
  {
   "cell_type": "code",
   "execution_count": null,
   "metadata": {},
   "outputs": [],
   "source": [
    "# Distribution of tweets per user.\n",
    "TweetsPerUser = Rotterdam.groupby('user_id').count()"
   ]
  },
  {
   "cell_type": "code",
   "execution_count": null,
   "metadata": {},
   "outputs": [],
   "source": [
    "# Boxplot of the distribution --> lots of outliers\n",
    "%matplotlib inline\n",
    "sns.boxplot(x=TweetsPerUser['item_number'])"
   ]
  },
  {
   "cell_type": "code",
   "execution_count": null,
   "metadata": {},
   "outputs": [],
   "source": [
    "# Dropping outliers\n",
    "TweetsPerUserNoOutliers = TweetsPerUser[TweetsPerUser['item_number'] < 20]"
   ]
  },
  {
   "cell_type": "code",
   "execution_count": null,
   "metadata": {},
   "outputs": [],
   "source": [
    "# Dropping values with only 1 tweets --> those are not suited for my analysis.\n",
    "TweetsPerUserNoOutliers = TweetsPerUserNoOutliers[TweetsPerUserNoOutliers['item_number'] > 2]"
   ]
  },
  {
   "cell_type": "code",
   "execution_count": null,
   "metadata": {},
   "outputs": [],
   "source": [
    "# Boxplot of the distribution without outliers\n",
    "%matplotlib inline\n",
    "sns.boxplot(x=TweetsPerUserNoOutliers['item_number'])"
   ]
  },
  {
   "cell_type": "code",
   "execution_count": null,
   "metadata": {},
   "outputs": [],
   "source": [
    "Rotterdam.dtypes"
   ]
  },
  {
   "cell_type": "code",
   "execution_count": null,
   "metadata": {},
   "outputs": [],
   "source": [
    "# Convert the time to datetime objects.\n",
    "Rotterdam['tweet_date'] = pd.to_datetime(Rotterdam['created_at_x'])"
   ]
  },
  {
   "cell_type": "code",
   "execution_count": null,
   "metadata": {},
   "outputs": [],
   "source": [
    "# Create two new columns, one for tweet time the other for month.\n",
    "Rotterdam['tweet_hour'] = Rotterdam['tweet_date'].dt.hour\n",
    "Rotterdam['tweet_month'] = Rotterdam['tweet_date'].dt.month"
   ]
  },
  {
   "cell_type": "code",
   "execution_count": null,
   "metadata": {},
   "outputs": [],
   "source": [
    "# Get tweets per month\n",
    "TweetsPerMonth = Rotterdam.groupby('tweet_month', as_index=False).count()"
   ]
  },
  {
   "cell_type": "code",
   "execution_count": null,
   "metadata": {},
   "outputs": [],
   "source": [
    "TweetsPerMonth"
   ]
  },
  {
   "cell_type": "code",
   "execution_count": null,
   "metadata": {},
   "outputs": [],
   "source": [
    "# Plot the number of tweets per month --> enormous increase.\n",
    "sns.set(style='darkgrid')\n",
    "sns.lineplot(x='tweet_month', y='item_number', data=TweetsPerMonth)"
   ]
  },
  {
   "cell_type": "code",
   "execution_count": null,
   "metadata": {},
   "outputs": [],
   "source": [
    "# Get tweet distribution per day\n",
    "TweetsPerHour = Rotterdam.groupby('tweet_hour', as_index=False).count()"
   ]
  },
  {
   "cell_type": "code",
   "execution_count": null,
   "metadata": {},
   "outputs": [],
   "source": [
    "# Plot the distribution of tweets per day\n",
    "sns.set(style='darkgrid')\n",
    "sns.lineplot(x='tweet_hour', y='item_number', data=TweetsPerHour)"
   ]
  },
  {
   "cell_type": "markdown",
   "metadata": {},
   "source": [
    "# Identifying tourists (Twitter)"
   ]
  },
  {
   "cell_type": "code",
   "execution_count": null,
   "metadata": {},
   "outputs": [],
   "source": [
    "# Get all the unique users and put them in a list\n",
    "UniqueUsers = Rotterdam['user_id'].unique()"
   ]
  },
  {
   "cell_type": "code",
   "execution_count": null,
   "metadata": {},
   "outputs": [],
   "source": [
    "# Create an empty dictionary to store the tourist identification information.\n",
    "TouristInfoDict = dict()"
   ]
  },
  {
   "cell_type": "code",
   "execution_count": null,
   "metadata": {},
   "outputs": [],
   "source": [
    "# For each user, identify whether the user is a tourist based on the time difference between the first and last tweet\n",
    "# of that user. Update the dictionary accordingly.\n",
    "for i in UniqueUsers:\n",
    "    \n",
    "    # Create boolean to indicate whether someone is a tourist.\n",
    "    isTourist = False\n",
    "    \n",
    "    # Get all the tweets for this particular user.\n",
    "    TweetsForThisUser = Rotterdam[Rotterdam['user_id'] == i]\n",
    "    numberOfTweets = len(TweetsForThisUser)\n",
    "    \n",
    "    # Only continue when there are more than 1 tweets.\n",
    "    if numberOfTweets > 1:\n",
    "        \n",
    "        # Sort the tweets and get the first and last tweet of a user.\n",
    "        TweetsForThisUser = TweetsForThisUser.sort_values(by='tweet_date')\n",
    "        FirstAndLast = TweetsForThisUser.iloc[[0, -1]]\n",
    "        \n",
    "        # Get the difference in days between the first and last tweet.\n",
    "        daysDelta = (FirstAndLast['tweet_date'].iloc[0] - FirstAndLast['tweet_date'].iloc[1]).days\n",
    "        \n",
    "        if abs(daysDelta) < 11:\n",
    "            isTourist = True\n",
    "        else:\n",
    "            isTourist = False\n",
    "    \n",
    "    else:\n",
    "        isTourist = False\n",
    "    \n",
    "    # Add the user to the dictionary\n",
    "    TouristInfoDict.update( {i : isTourist} )"
   ]
  },
  {
   "cell_type": "code",
   "execution_count": null,
   "metadata": {},
   "outputs": [],
   "source": [
    "# Transform the dictionary into a dataframe and rename the columns.\n",
    "TouristInfo = pd.DataFrame(list(TouristInfoDict.items()))\n",
    "TouristInfo = TouristInfo.rename(columns={0: \"user_id\", 1: \"is_tourist\"})"
   ]
  },
  {
   "cell_type": "code",
   "execution_count": null,
   "metadata": {},
   "outputs": [],
   "source": [
    "# Statistics on the amount of tourists identified.\n",
    "TouristInfo['is_tourist'].value_counts()"
   ]
  },
  {
   "cell_type": "code",
   "execution_count": null,
   "metadata": {},
   "outputs": [],
   "source": [
    "# Merge with the original dataset\n",
    "Rotterdam_TouristInfo = pd.merge(Rotterdam, TouristInfo, on='user_id', how='left')"
   ]
  },
  {
   "cell_type": "code",
   "execution_count": null,
   "metadata": {},
   "outputs": [],
   "source": [
    "# Dataset with locals\n",
    "Rotterdam_Locals = Rotterdam_TouristInfo[Rotterdam_TouristInfo['is_tourist'] == False]"
   ]
  },
  {
   "cell_type": "code",
   "execution_count": null,
   "metadata": {},
   "outputs": [],
   "source": [
    "# Dataset with tourists\n",
    "Rotterdam_Tourists = Rotterdam_TouristInfo[Rotterdam_TouristInfo['is_tourist'] == True]"
   ]
  },
  {
   "cell_type": "code",
   "execution_count": null,
   "metadata": {},
   "outputs": [],
   "source": [
    "# Export to CSV files for later analysis.\n",
    "Rotterdam_Locals.to_csv('CSV/2015_Locals.csv', index=False)\n",
    "Rotterdam_Tourists.to_csv('CSV/2015_Tourists.csv', index=False)"
   ]
  },
  {
   "cell_type": "markdown",
   "metadata": {},
   "source": [
    "# Identifying Tourists (Flickr)"
   ]
  },
  {
   "cell_type": "code",
   "execution_count": null,
   "metadata": {
    "scrolled": false
   },
   "outputs": [],
   "source": [
    "# Get an idea of the data.\n",
    "RotterdamFlickr.head()"
   ]
  },
  {
   "cell_type": "code",
   "execution_count": null,
   "metadata": {},
   "outputs": [],
   "source": [
    "# postedDate needs to be converted to datetime.\n",
    "RotterdamFlickr.dtypes"
   ]
  },
  {
   "cell_type": "code",
   "execution_count": null,
   "metadata": {},
   "outputs": [],
   "source": [
    "# Create new datetime column\n",
    "RotterdamFlickr['postedTime'] = RotterdamFlickr['postedDate'].map(lambda x: datetime.datetime.fromtimestamp(x))"
   ]
  },
  {
   "cell_type": "code",
   "execution_count": null,
   "metadata": {},
   "outputs": [],
   "source": [
    "RotterdamFlickr.dtypes"
   ]
  },
  {
   "cell_type": "code",
   "execution_count": null,
   "metadata": {},
   "outputs": [],
   "source": [
    "# Get all the unique users and put them in a list\n",
    "UniqueUsersFlickr = RotterdamFlickr['userID'].unique()"
   ]
  },
  {
   "cell_type": "code",
   "execution_count": null,
   "metadata": {},
   "outputs": [],
   "source": [
    "# Create an empty dictionary to store the tourist identification information.\n",
    "TouristInfoDictFlickr = dict()"
   ]
  },
  {
   "cell_type": "code",
   "execution_count": null,
   "metadata": {},
   "outputs": [],
   "source": [
    "# For each user, identify whether the user is a tourist based on the time difference between the first and last post\n",
    "# of that user. Update the dictionary accordingly.\n",
    "for i in UniqueUsersFlickr:\n",
    "    \n",
    "    # Create boolean to indicate whether someone is a tourist.\n",
    "    isTourist = False\n",
    "    \n",
    "    # Get all the posts for this particular user.\n",
    "    PostsForThisUser = RotterdamFlickr[RotterdamFlickr['userID'] == i]\n",
    "    numberOfPosts = len(PostsForThisUser)\n",
    "    \n",
    "    # Only continue when there are more than 1 posts.\n",
    "    if numberOfPosts > 1:\n",
    "        \n",
    "        # Sort the tweets and get the first and last post of a user.\n",
    "        PostsForThisUser = PostsForThisUser.sort_values(by='postedTime')\n",
    "        FirstAndLast = PostsForThisUser.iloc[[0, -1]]\n",
    "        \n",
    "        # Get the difference in days between the first and last post.\n",
    "        daysDelta = (FirstAndLast['postedTime'].iloc[0] - FirstAndLast['postedTime'].iloc[1]).days\n",
    "        \n",
    "        if abs(daysDelta) < 11:\n",
    "            isTourist = True\n",
    "        else:\n",
    "            isTourist = False\n",
    "    \n",
    "    else:\n",
    "        isTourist = False\n",
    "    \n",
    "    # Add the user to the dictionary\n",
    "    TouristInfoDictFlickr.update( {i : isTourist} )"
   ]
  },
  {
   "cell_type": "code",
   "execution_count": null,
   "metadata": {},
   "outputs": [],
   "source": [
    "# Transform the dictionary into a dataframe and rename the columns.\n",
    "TouristInfoFlickr = pd.DataFrame(list(TouristInfoDictFlickr.items()))\n",
    "TouristInfoFlickr = TouristInfoFlickr.rename(columns={0: \"userID\", 1: \"is_tourist\"})"
   ]
  },
  {
   "cell_type": "code",
   "execution_count": null,
   "metadata": {},
   "outputs": [],
   "source": [
    "# Statistics on the amount of tourists identified.\n",
    "TouristInfoFlickr['is_tourist'].value_counts()"
   ]
  },
  {
   "cell_type": "code",
   "execution_count": null,
   "metadata": {},
   "outputs": [],
   "source": [
    "# Merge with the original dataset\n",
    "Rotterdam_TouristInfoFlickr = pd.merge(RotterdamFlickr, TouristInfoFlickr, on='userID', how='left')"
   ]
  },
  {
   "cell_type": "code",
   "execution_count": null,
   "metadata": {},
   "outputs": [],
   "source": [
    "# Dataset with locals\n",
    "Rotterdam_LocalsFlickr = Rotterdam_TouristInfoFlickr[Rotterdam_TouristInfoFlickr['is_tourist'] == False]"
   ]
  },
  {
   "cell_type": "code",
   "execution_count": null,
   "metadata": {},
   "outputs": [],
   "source": [
    "# Dataset with tourists\n",
    "Rotterdam_TouristsFlickr = Rotterdam_TouristInfoFlickr[Rotterdam_TouristInfoFlickr['is_tourist'] == True]"
   ]
  },
  {
   "cell_type": "code",
   "execution_count": null,
   "metadata": {},
   "outputs": [],
   "source": [
    "Rotterdam_LocalsFlickr['userID'].nunique()"
   ]
  },
  {
   "cell_type": "code",
   "execution_count": null,
   "metadata": {},
   "outputs": [],
   "source": [
    "# Export to CSV files for later analysis.\n",
    "Rotterdam_LocalsFlickr.to_csv('Flickr_Locals.csv', index=False)\n",
    "Rotterdam_TouristsFlickr.to_csv('Flickr_Tourists.csv', index=False)"
   ]
  }
 ],
 "metadata": {
  "kernelspec": {
   "display_name": "Python 3",
   "language": "python",
   "name": "python3"
  },
  "language_info": {
   "codemirror_mode": {
    "name": "ipython",
    "version": 3
   },
   "file_extension": ".py",
   "mimetype": "text/x-python",
   "name": "python",
   "nbconvert_exporter": "python",
   "pygments_lexer": "ipython3",
   "version": "3.7.6"
  }
 },
 "nbformat": 4,
 "nbformat_minor": 2
}

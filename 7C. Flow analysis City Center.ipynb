{
 "cells": [
  {
   "cell_type": "markdown",
   "metadata": {},
   "source": [
    "# Importing packages"
   ]
  },
  {
   "cell_type": "code",
   "execution_count": null,
   "metadata": {},
   "outputs": [],
   "source": [
    "import numpy as np\n",
    "import pandas as pd"
   ]
  },
  {
   "cell_type": "markdown",
   "metadata": {},
   "source": [
    "# Importing tourist files"
   ]
  },
  {
   "cell_type": "code",
   "execution_count": null,
   "metadata": {},
   "outputs": [],
   "source": [
    "TouristsTwitter = pd.read_csv('CSV/tourists_clustered.csv', sep= ',', low_memory = False, lineterminator='\\n')\n",
    "TouristsFlickr = pd.read_csv('CSV/Flickr_Tourists.csv', sep= ',', low_memory = False, lineterminator='\\n')"
   ]
  },
  {
   "cell_type": "code",
   "execution_count": null,
   "metadata": {},
   "outputs": [],
   "source": [
    "# Convert to datetime columns.\n",
    "TouristsFlickr['post_date'] = pd.to_datetime(TouristsFlickr['postedTime'])\n",
    "TouristsTwitter['tweet_date'] = pd.to_datetime(TouristsTwitter['tweet_date'])\n",
    "TouristsTwitter['post_date'] = pd.to_datetime(TouristsTwitter['tweet_date'])"
   ]
  },
  {
   "cell_type": "code",
   "execution_count": null,
   "metadata": {},
   "outputs": [],
   "source": [
    "# Create bounding box.\n",
    "boundingBox = [\n",
    "    [4.441395, 51.89715],\n",
    "    [4.441395, 51.92849],\n",
    "    [4.503365, 51.92849],\n",
    "    [4.503365, 51.89715]\n",
    "]\n",
    "\n",
    "boundingBoxMinMax = [4.441395, 4.503365, 51.89715, 51.92849] #lon min, lon max, lat min, lat max"
   ]
  },
  {
   "cell_type": "code",
   "execution_count": null,
   "metadata": {},
   "outputs": [],
   "source": [
    "TouristsTwitter.head()"
   ]
  },
  {
   "cell_type": "markdown",
   "metadata": {},
   "source": [
    "# Combining the datasets into one with only necessary information"
   ]
  },
  {
   "cell_type": "code",
   "execution_count": null,
   "metadata": {
    "scrolled": true
   },
   "outputs": [],
   "source": [
    "FlickrDateInfo = TouristsFlickr[['photoID', 'post_date', 'userID', 'latitude', 'longitude']]\n",
    "FlickrDateInfo.rename(columns={'latitude': 'geo_lat', 'longitude': 'geo_lon'}, inplace = True)"
   ]
  },
  {
   "cell_type": "code",
   "execution_count": null,
   "metadata": {},
   "outputs": [],
   "source": [
    "TwitterDateInfo = TouristsTwitter[['item_number','post_date','user_id', 'geo_lat', 'geo_lon']]"
   ]
  },
  {
   "cell_type": "code",
   "execution_count": null,
   "metadata": {},
   "outputs": [],
   "source": [
    "frames = [TwitterDateInfo, FlickrDateInfo]\n",
    "Tourists = pd.concat(frames)"
   ]
  },
  {
   "cell_type": "code",
   "execution_count": null,
   "metadata": {},
   "outputs": [],
   "source": [
    "Tourists[\"user\"] = Tourists[\"user_id\"].astype(str) + Tourists[\"userID\"].astype(str)"
   ]
  },
  {
   "cell_type": "code",
   "execution_count": null,
   "metadata": {},
   "outputs": [],
   "source": [
    "Tourists.drop(columns= ['userID', 'user_id'], inplace=True)"
   ]
  },
  {
   "cell_type": "code",
   "execution_count": null,
   "metadata": {},
   "outputs": [],
   "source": [
    "Tourists.head()"
   ]
  },
  {
   "cell_type": "markdown",
   "metadata": {},
   "source": [
    "# Filtering the dataset on the bounding box"
   ]
  },
  {
   "cell_type": "code",
   "execution_count": null,
   "metadata": {},
   "outputs": [],
   "source": [
    "def assignToBox(lon, lat):\n",
    "     \n",
    "    cluster = 'None'\n",
    "    \n",
    "    if (lon >= boundingBoxMinMax[0] and lon <= boundingBoxMinMax[1]) and (lat >= boundingBoxMinMax[2] and lat <= boundingBoxMinMax[3]):\n",
    "        cluster = 'Center'\n",
    "    \n",
    "    return cluster"
   ]
  },
  {
   "cell_type": "code",
   "execution_count": null,
   "metadata": {},
   "outputs": [],
   "source": [
    "# Use an apply and lambda function assign the cluster to each tweet\n",
    "Tourists['cluster'] = Tourists.apply(lambda x: assignToBox(x['geo_lon'],x['geo_lat']),axis=1)"
   ]
  },
  {
   "cell_type": "code",
   "execution_count": null,
   "metadata": {},
   "outputs": [],
   "source": [
    "TouristsCenter = Tourists[Tourists['cluster'] == 'Center']"
   ]
  },
  {
   "cell_type": "code",
   "execution_count": null,
   "metadata": {},
   "outputs": [],
   "source": [
    "TouristsCenter"
   ]
  },
  {
   "cell_type": "markdown",
   "metadata": {},
   "source": [
    "# Assigning posts to a certain area in the center (based on the bounding box)"
   ]
  },
  {
   "cell_type": "code",
   "execution_count": null,
   "metadata": {},
   "outputs": [],
   "source": [
    "def assignCluster(lon, lat, currentCluster, box, newCluster):\n",
    "    \n",
    "    cluster = currentCluster\n",
    "    \n",
    "    # Belongs to airport?\n",
    "    if (lon >= box[0] and lon <= box[1]) and (lat >= box[2] and lat <= box[3]):\n",
    "        cluster = newCluster\n",
    "    return cluster  "
   ]
  },
  {
   "cell_type": "code",
   "execution_count": null,
   "metadata": {},
   "outputs": [],
   "source": [
    "numberHorizontal = 0;\n",
    "numberVertical = 0;\n",
    "horizontalMax = 20; # Change this if you want more granularity\n",
    "verticalMax = 20; # Change this if you want more granularity"
   ]
  },
  {
   "cell_type": "code",
   "execution_count": null,
   "metadata": {
    "scrolled": false
   },
   "outputs": [],
   "source": [
    "horizontalInterval = (boundingBoxMinMax[1] - boundingBoxMinMax[0]) / horizontalMax\n",
    "verticalInterval = (boundingBoxMinMax[3] - boundingBoxMinMax[2]) / verticalMax\n",
    "\n",
    "horizontalStart = boundingBoxMinMax[0]\n",
    "verticalStart = boundingBoxMinMax[2]\n",
    "\n",
    "while(numberVertical < verticalMax):\n",
    "    \n",
    "    #Add one to the vertical ones, essentially moving one layer up.\n",
    "    numberVertical = numberVertical + 1\n",
    "    \n",
    "    while(numberHorizontal < horizontalMax):\n",
    "        \n",
    "        # Add one to the horizontal ones, essentially moving one layer to the left.\n",
    "        numberHorizontal = numberHorizontal + 1\n",
    "        \n",
    "        # Create box.\n",
    "        boxMinMax = [horizontalStart, horizontalStart + horizontalInterval, # lon min, lon max.\n",
    "                     verticalStart, verticalStart + verticalInterval] # lat min, lat max.\n",
    "        \n",
    "        # Change horizontal start\n",
    "        horizontalStart = horizontalStart + horizontalInterval\n",
    "        \n",
    "        # Create new cluster name.\n",
    "        newCluster = str('{},{}'.format(numberVertical,numberHorizontal))\n",
    "        \n",
    "        # Change clusters in the dataset accordingly\n",
    "        TouristsCenter['cluster'] = TouristsCenter.apply(lambda x: assignCluster(x['geo_lon'],x['geo_lat'], x['cluster'], boxMinMax, newCluster),axis=1)\n",
    "        \n",
    "    # Reset number horizontal for next layer\n",
    "    numberHorizontal = 0\n",
    "    \n",
    "    # Reset horizontal start\n",
    "    horizontalStart = boundingBoxMinMax[0]\n",
    "    \n",
    "    # Change vertical start\n",
    "    verticalStart = verticalStart + verticalInterval\n",
    "    \n",
    "    print(numberVertical)"
   ]
  },
  {
   "cell_type": "code",
   "execution_count": null,
   "metadata": {},
   "outputs": [],
   "source": [
    "TouristsCenter['cluster'].value_counts()"
   ]
  },
  {
   "cell_type": "markdown",
   "metadata": {
    "scrolled": false
   },
   "source": [
    "# Create raw trajectories"
   ]
  },
  {
   "cell_type": "code",
   "execution_count": null,
   "metadata": {},
   "outputs": [],
   "source": [
    "# Create a set of unique users.\n",
    "UniqueUsers = TouristsCenter['user'].unique()"
   ]
  },
  {
   "cell_type": "code",
   "execution_count": null,
   "metadata": {},
   "outputs": [],
   "source": [
    "# Create an empty trajectory dictionary\n",
    "Trajectories = {}"
   ]
  },
  {
   "cell_type": "code",
   "execution_count": null,
   "metadata": {},
   "outputs": [],
   "source": [
    "# For each user, create a timed path, get the cluster of each post and add it to the empty dictionary.\n",
    "for i in UniqueUsers:\n",
    "    \n",
    "    # Get all the posts of the user.\n",
    "    Posts = TouristsCenter[TouristsCenter['user'] == i]\n",
    "    \n",
    "    # Sort the posts.\n",
    "    Posts = Posts.sort_values(by='post_date')\n",
    "    \n",
    "    # Get a list of all the clusters and put it in an array.\n",
    "    ClustersOfPosts = Posts['cluster'].values\n",
    "    \n",
    "    # Add the user and the timed path to the dictionary.\n",
    "    Trajectories.update( {i : ClustersOfPosts} )"
   ]
  },
  {
   "cell_type": "code",
   "execution_count": null,
   "metadata": {},
   "outputs": [],
   "source": [
    "# Trajectory in dataframe format\n",
    "Trajectory = pd.DataFrame(list(Trajectories.items()))\n",
    "Trajectory = Trajectory.rename(columns={0: \"user\", 1: \"trajectory\"})"
   ]
  },
  {
   "cell_type": "code",
   "execution_count": null,
   "metadata": {},
   "outputs": [],
   "source": [
    "Trajectory.head()"
   ]
  },
  {
   "cell_type": "markdown",
   "metadata": {},
   "source": [
    "# Creating pairs"
   ]
  },
  {
   "cell_type": "code",
   "execution_count": null,
   "metadata": {},
   "outputs": [],
   "source": [
    "# A dictionary that will hold all the pairs\n",
    "AreaPairs = {}"
   ]
  },
  {
   "cell_type": "code",
   "execution_count": null,
   "metadata": {},
   "outputs": [],
   "source": [
    "# A function to filter the dataframe based on number of posts\n",
    "def filterOnNumberOfPosts(x):\n",
    "    \n",
    "    if len(x) > 1:\n",
    "        return True\n",
    "    return False"
   ]
  },
  {
   "cell_type": "code",
   "execution_count": null,
   "metadata": {},
   "outputs": [],
   "source": [
    "Trajectory['isCandidate'] = Trajectory['trajectory'].map(lambda x: filterOnNumberOfPosts(x))"
   ]
  },
  {
   "cell_type": "code",
   "execution_count": null,
   "metadata": {},
   "outputs": [],
   "source": [
    "# Get only the candidate ones\n",
    "Areas = Trajectory[Trajectory['isCandidate']]"
   ]
  },
  {
   "cell_type": "code",
   "execution_count": null,
   "metadata": {},
   "outputs": [],
   "source": [
    "# Get an idea of how many there are\n",
    "Areas.shape"
   ]
  },
  {
   "cell_type": "code",
   "execution_count": null,
   "metadata": {},
   "outputs": [],
   "source": [
    "# A function that creates paires of POIS.\n",
    "def createAreaPairs(dataframeWithAreas):\n",
    "    \n",
    "    # Loop over the given dataframe.\n",
    "    for index, row in dataframeWithAreas.iterrows():\n",
    "        \n",
    "        pairs = []\n",
    "        \n",
    "        # Loop over the array of trajectories for each row.\n",
    "        for i in range(len(row['trajectory'])-1):\n",
    "            \n",
    "            # Create a pair.\n",
    "            pair = [row['trajectory'][i], row['trajectory'][i+1]]\n",
    "            \n",
    "            # If the pair already exists, continue (I only want unique pairs for each user)\n",
    "            if pair in pairs:\n",
    "                continue\n",
    "            \n",
    "            # Else process the pair.\n",
    "            else:\n",
    "                \n",
    "                # Append the pair to the pair list.\n",
    "                pairs.append(pair)\n",
    "            \n",
    "                # If i already in the dictionary, append.\n",
    "                if row['trajectory'][i] in AreaPairs.keys():\n",
    "                    AreaPairs[row['trajectory'][i]].append(row['trajectory'][i+1])\n",
    "                # Else, create new key.\n",
    "                else:\n",
    "                    AreaPairs[row['trajectory'][i]] = [row['trajectory'][i+1]]  "
   ]
  },
  {
   "cell_type": "code",
   "execution_count": null,
   "metadata": {},
   "outputs": [],
   "source": [
    "createAreaPairs(Areas)"
   ]
  },
  {
   "cell_type": "code",
   "execution_count": null,
   "metadata": {},
   "outputs": [],
   "source": [
    "for i in sorted(AreaPairs):\n",
    "    print(i)"
   ]
  },
  {
   "cell_type": "markdown",
   "metadata": {},
   "source": [
    "# Create a transition matrix"
   ]
  },
  {
   "cell_type": "code",
   "execution_count": null,
   "metadata": {},
   "outputs": [],
   "source": [
    "# Empty transition matrix\n",
    "TransitionMatrix = []"
   ]
  },
  {
   "cell_type": "code",
   "execution_count": null,
   "metadata": {},
   "outputs": [],
   "source": [
    "# Empty matrix to store the order in.\n",
    "OrderOfKeys = []"
   ]
  },
  {
   "cell_type": "code",
   "execution_count": null,
   "metadata": {},
   "outputs": [],
   "source": [
    "# Iterate over the keys to fill the transition matrix\n",
    "for key in AreaPairs:\n",
    "    \n",
    "    # Count the total number of observations.\n",
    "    totalObs = len(AreaPairs[key])\n",
    "    \n",
    "    # Create an array to store values in.\n",
    "    valuesArray = []\n",
    "    \n",
    "    # Count how many times the other keys are part of this current key.\n",
    "    for keyInner in AreaPairs:\n",
    "        \n",
    "        # Get the probability of going to a certain key.\n",
    "        probability = AreaPairs[key].count(keyInner) / totalObs\n",
    "        \n",
    "        # Put in the values array.\n",
    "        valuesArray.append([keyInner, probability])\n",
    "    \n",
    "    # Put in the transition matrix.\n",
    "    TransitionMatrix.append(valuesArray)\n",
    "    \n",
    "    # Put key in the ordermatrix.\n",
    "    OrderOfKeys.append(key)"
   ]
  },
  {
   "cell_type": "code",
   "execution_count": null,
   "metadata": {},
   "outputs": [],
   "source": [
    "TransitionMatrixCleaned = []"
   ]
  },
  {
   "cell_type": "code",
   "execution_count": null,
   "metadata": {},
   "outputs": [],
   "source": [
    "# Update transition matrix to include only non-zero values.\n",
    "for i in range(len(TransitionMatrix) -1):\n",
    "    \n",
    "    transitions = []\n",
    "    \n",
    "    for j in range(len(TransitionMatrix[i]) - 1):\n",
    "        \n",
    "        if TransitionMatrix[i][j][1] > 0.10: # Change this value to change threshold.\n",
    "            transitions.append([TransitionMatrix[i][j][0], TransitionMatrix[i][j][1]])\n",
    "        \n",
    "        # Append something to keep the right order if nothing matches the criterium above.\n",
    "        if len(transitions) == 0:\n",
    "            transitions.append(['Nothing', 'here'])\n",
    "            \n",
    "    TransitionMatrixCleaned.append(transitions)"
   ]
  },
  {
   "cell_type": "code",
   "execution_count": null,
   "metadata": {},
   "outputs": [],
   "source": [
    "TransitionTable = []\n",
    "# Create a table for each startpoint to get trajectory information.\n",
    "for i in range(len(OrderOfKeys) - 1):\n",
    "    \n",
    "    Row = [];\n",
    "    \n",
    "    Row.append(OrderOfKeys[i])\n",
    "    \n",
    "    Row.append(TransitionMatrixCleaned[i])\n",
    "    \n",
    "    TransitionTable.append(Row)\n",
    "    \n"
   ]
  }
 ],
 "metadata": {
  "kernelspec": {
   "display_name": "Python 3",
   "language": "python",
   "name": "python3"
  },
  "language_info": {
   "codemirror_mode": {
    "name": "ipython",
    "version": 3
   },
   "file_extension": ".py",
   "mimetype": "text/x-python",
   "name": "python",
   "nbconvert_exporter": "python",
   "pygments_lexer": "ipython3",
   "version": "3.7.6"
  }
 },
 "nbformat": 4,
 "nbformat_minor": 4
}

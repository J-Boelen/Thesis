{
 "cells": [
  {
   "cell_type": "markdown",
   "metadata": {},
   "source": [
    "# Importing packages"
   ]
  },
  {
   "cell_type": "code",
   "execution_count": null,
   "metadata": {},
   "outputs": [],
   "source": [
    "# Import the necessary packages\n",
    "import numpy as np\n",
    "import pandas as pd\n",
    "import sqlite3"
   ]
  },
  {
   "cell_type": "markdown",
   "metadata": {},
   "source": [
    "# Declare empty Rotterdam yearly dataframe"
   ]
  },
  {
   "cell_type": "code",
   "execution_count": null,
   "metadata": {
    "scrolled": true
   },
   "outputs": [],
   "source": [
    "#Create empty dataframe\n",
    "Rotterdam_2018 = pd.DataFrame()\n",
    "Rotterdam_2018.shape"
   ]
  },
  {
   "cell_type": "markdown",
   "metadata": {},
   "source": [
    "# Reading and processing the .db file\n",
    "Just change the name of the db file in the connection creation and in the export csv action to reuse this logic.\n",
    "This can be skipped if the CSV files are already created."
   ]
  },
  {
   "cell_type": "code",
   "execution_count": null,
   "metadata": {},
   "outputs": [],
   "source": [
    "# Connect with the db file and create cursor object to be able to execute queries\n",
    "connection = sqlite3.connect('2018/month_2018_06.db')\n",
    "cursor = connection.cursor()"
   ]
  },
  {
   "cell_type": "code",
   "execution_count": null,
   "metadata": {},
   "outputs": [],
   "source": [
    "#Using SQlite for insight into the tables, print one of the existing tables.\n",
    "#Just for testing purposes, can be skipped.\n",
    "#for row in cursor.execute('SELECT * FROM tweets_NL'):\n",
    "        #print(row)"
   ]
  },
  {
   "cell_type": "code",
   "execution_count": null,
   "metadata": {},
   "outputs": [],
   "source": [
    "# Create a pandas dataframe based on a table from the database\n",
    "tweets_NL = pd.read_sql_query(\"SELECT * FROM tweets_NL\", connection)\n",
    "users_NL = pd.read_sql_query(\"SELECT * FROM user_NL\", connection)"
   ]
  },
  {
   "cell_type": "code",
   "execution_count": null,
   "metadata": {},
   "outputs": [],
   "source": [
    "# Get an idea of the data\n",
    "tweets_NL.shape"
   ]
  },
  {
   "cell_type": "markdown",
   "metadata": {},
   "source": [
    "# Creating a Rotterdam dataframe"
   ]
  },
  {
   "cell_type": "code",
   "execution_count": null,
   "metadata": {},
   "outputs": [],
   "source": [
    "# Drop the columns with missing lat or lon information\n",
    "tweets_NL = tweets_NL[tweets_NL['geo_lat'].isnull() == False]\n",
    "tweets_NL = tweets_NL[tweets_NL['geo_lon'].isnull() == False]\n",
    "tweets_NL.shape"
   ]
  },
  {
   "cell_type": "code",
   "execution_count": null,
   "metadata": {},
   "outputs": [],
   "source": [
    "# Filter all the tweets based on location of the tweet, separating between Rotterdam and Amsterdam\n",
    "\n",
    "# The lat and lon values of the cities.\n",
    "lat_Amsterdam = 52.37403\n",
    "lon_Amsterdam = 4.88969\n",
    "\n",
    "lat_Rotterdam = 51.9225\n",
    "lon_Rotterdam = 4.47917\n",
    "\n",
    "# Create an empty list to fill and eventually append to the existing dataframe\n",
    "city_inferred = []\n",
    "\n",
    "for index, row in tweets_NL.iterrows():\n",
    "    \n",
    "    # Get the differences in lat and lon values of a certain tweet\n",
    "    delta_lat_Amsterdam = abs(row['geo_lat'] - lat_Amsterdam)\n",
    "    delta_lat_Rotterdam = abs(row['geo_lat'] - lat_Rotterdam)\n",
    "    \n",
    "    delta_lon_Amsterdam = abs(row['geo_lon'] - lon_Amsterdam)\n",
    "    delta_lon_Rotterdam = abs(row['geo_lon'] - lon_Rotterdam)\n",
    "    \n",
    "    # Based on those differences, assign either Rotterdam or Amsterdam to the tweet\n",
    "    if delta_lat_Amsterdam > delta_lat_Rotterdam and delta_lon_Amsterdam > delta_lon_Rotterdam:\n",
    "        city_inferred.append('Rotterdam')\n",
    "    else: \n",
    "        city_inferred.append('Amsterdam')"
   ]
  },
  {
   "cell_type": "code",
   "execution_count": null,
   "metadata": {},
   "outputs": [],
   "source": [
    "# Add the new column to the dataframe\n",
    "tweets_NL['city_inferred'] = city_inferred"
   ]
  },
  {
   "cell_type": "code",
   "execution_count": null,
   "metadata": {},
   "outputs": [],
   "source": [
    "# Create a Rotterdam dataframe tweets_R\n",
    "tweets_R = tweets_NL[tweets_NL['city_inferred'] == 'Rotterdam']"
   ]
  },
  {
   "cell_type": "markdown",
   "metadata": {},
   "source": [
    "#### Combining user information into the table"
   ]
  },
  {
   "cell_type": "code",
   "execution_count": null,
   "metadata": {},
   "outputs": [],
   "source": [
    "tweetsAndUsers_R = pd.merge(tweets_R, users_NL, on='item_number', how='left')"
   ]
  },
  {
   "cell_type": "code",
   "execution_count": null,
   "metadata": {},
   "outputs": [],
   "source": [
    "tweetsAndUsers_R.drop(columns=['profile_image_url', 'profile_background_image_url', 'profile_banner_url', \n",
    "                              'url', 'listed_count', 'in_reply_to_user_id', 'in_reply_to_status_id',\n",
    "                              'quoted_status_id','created_timestamp_y', 'favourites_count', 'statuses_count',\n",
    "                              'friends_count'], inplace = True)"
   ]
  },
  {
   "cell_type": "code",
   "execution_count": null,
   "metadata": {},
   "outputs": [],
   "source": [
    "# Append the month to the yearly dataframe\n",
    "Rotterdam_2018 = Rotterdam_2018.append(tweetsAndUsers_R)"
   ]
  },
  {
   "cell_type": "code",
   "execution_count": null,
   "metadata": {},
   "outputs": [],
   "source": [
    "print('shape monthly database:' + str(tweetsAndUsers_R.shape))\n",
    "print('shape yearly database:' + str(Rotterdam_2018.shape))"
   ]
  },
  {
   "cell_type": "markdown",
   "metadata": {},
   "source": [
    "# Combining all the monthly databases into one yearly Rotterdam database"
   ]
  },
  {
   "cell_type": "code",
   "execution_count": null,
   "metadata": {},
   "outputs": [],
   "source": [
    "Rotterdam_2018.to_csv('2018.csv', index=False)"
   ]
  },
  {
   "cell_type": "code",
   "execution_count": null,
   "metadata": {},
   "outputs": [],
   "source": [
    "Rotterdam_2018_01 = pd.read_csv('2018.csv', sep= ',', low_memory = False, lineterminator='\\n')"
   ]
  }
 ],
 "metadata": {
  "kernelspec": {
   "display_name": "Python 3",
   "language": "python",
   "name": "python3"
  },
  "language_info": {
   "codemirror_mode": {
    "name": "ipython",
    "version": 3
   },
   "file_extension": ".py",
   "mimetype": "text/x-python",
   "name": "python",
   "nbconvert_exporter": "python",
   "pygments_lexer": "ipython3",
   "version": "3.7.6"
  }
 },
 "nbformat": 4,
 "nbformat_minor": 2
}

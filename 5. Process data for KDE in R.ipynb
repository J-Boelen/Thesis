{
 "cells": [
  {
   "cell_type": "markdown",
   "metadata": {},
   "source": [
    "### The purpose of this notebook is to select and prepare the data processed in the other notebooks for usage in R. Since python isn't great for geospatial analysis, most notably KDE, these functions will be done in R."
   ]
  },
  {
   "cell_type": "code",
   "execution_count": null,
   "metadata": {},
   "outputs": [],
   "source": [
    "# Import the necessary packages\n",
    "import numpy as np\n",
    "import pandas as pd\n",
    "import matplotlib.pyplot as plt\n",
    "import matplotlib.patches as mpatches\n",
    "import seaborn as sns\n",
    "import sqlite3\n",
    "sns.set()"
   ]
  },
  {
   "cell_type": "code",
   "execution_count": null,
   "metadata": {},
   "outputs": [],
   "source": [
    "Tourists = pd.read_csv('tourists_total.csv', sep= ',', low_memory = False, lineterminator='\\n')\n",
    "TouristsAttachments = pd.read_csv('tourists_attachments.csv', sep= ',', low_memory = False, lineterminator='\\n')\n",
    "TouristsFlickr = pd.read_csv('Flickr_Tourists.csv', sep= ',', low_memory = False, lineterminator='\\n')\n"
   ]
  },
  {
   "cell_type": "code",
   "execution_count": null,
   "metadata": {},
   "outputs": [],
   "source": [
    "TouristsFlickr.dtypes"
   ]
  },
  {
   "cell_type": "code",
   "execution_count": null,
   "metadata": {},
   "outputs": [],
   "source": [
    "Tourists_Small = Tourists[['geo_lon', 'geo_lat']]\n",
    "TouristsFlickr_Small = TouristsFlickr[['longitude', 'latitude']]\n",
    "TouristsAttachments_Small = TouristsAttachments[['geo_lon', 'geo_lat']]"
   ]
  },
  {
   "cell_type": "code",
   "execution_count": null,
   "metadata": {},
   "outputs": [],
   "source": [
    "Tourists_Small['geo_lon'].describe()"
   ]
  },
  {
   "cell_type": "code",
   "execution_count": null,
   "metadata": {},
   "outputs": [],
   "source": [
    "Tourists_Small['geo_lat'].describe()"
   ]
  },
  {
   "cell_type": "code",
   "execution_count": null,
   "metadata": {},
   "outputs": [],
   "source": [
    "TouristsAttachments_Small['geo_lon'].describe()"
   ]
  },
  {
   "cell_type": "code",
   "execution_count": null,
   "metadata": {},
   "outputs": [],
   "source": [
    "TouristsAttachments_Small['geo_lat'].describe()"
   ]
  },
  {
   "cell_type": "code",
   "execution_count": null,
   "metadata": {},
   "outputs": [],
   "source": [
    "TouristsFlickr_Small['longitude'].describe()"
   ]
  },
  {
   "cell_type": "code",
   "execution_count": null,
   "metadata": {},
   "outputs": [],
   "source": [
    "TouristsFlickr_Small['latitude'].describe()"
   ]
  },
  {
   "cell_type": "code",
   "execution_count": null,
   "metadata": {},
   "outputs": [],
   "source": [
    "Tourists_Small = Tourists_Small[Tourists_Small['geo_lon'] > 4]\n",
    "TouristsAttachments_Small = TouristsAttachments_Small[TouristsAttachments_Small['geo_lon'] > 4]"
   ]
  },
  {
   "cell_type": "code",
   "execution_count": null,
   "metadata": {},
   "outputs": [],
   "source": [
    "# Inspect which values are extremely common and may need to be deleted from the dataset.\n",
    "Tourists_Small[\"unique\"] = Tourists_Small[\"geo_lon\"].map(str) + Tourists_Small[\"geo_lat\"].map(str)\n",
    "TouristsAttachments_Small[\"unique\"] = TouristsAttachments_Small[\"geo_lon\"].map(str) + TouristsAttachments_Small[\"geo_lat\"].map(str)\n",
    "\n",
    "TouristsFlickr_Small[\"unique\"] = TouristsFlickr_Small['longitude'].map(str) + TouristsFlickr_Small['latitude'].map(str)"
   ]
  },
  {
   "cell_type": "code",
   "execution_count": null,
   "metadata": {},
   "outputs": [],
   "source": [
    "# Get the unique value counts, this displays which spots can greatly influence the KDE heatmap.\n",
    "Tourists_Small['unique'].value_counts()"
   ]
  },
  {
   "cell_type": "code",
   "execution_count": null,
   "metadata": {},
   "outputs": [],
   "source": [
    "TouristsAttachments_Small['unique'].value_counts()"
   ]
  },
  {
   "cell_type": "code",
   "execution_count": null,
   "metadata": {},
   "outputs": [],
   "source": [
    "# Get the unique value counts, this displays which spots can greatly influence the KDE heatmap.\n",
    "TouristsFlickr_Small['unique'].value_counts()"
   ]
  },
  {
   "cell_type": "code",
   "execution_count": null,
   "metadata": {},
   "outputs": [],
   "source": [
    "# Drop everything that has more than 200.\n",
    "Tourists_Small = Tourists_Small[Tourists_Small['unique'] != \"4.551.9167\"]\n",
    "Tourists_Small = Tourists_Small[Tourists_Small['unique'] != \"4.475251.9235\"]\n",
    "Tourists_Small = Tourists_Small[Tourists_Small['unique'] != \"4.4694936351.92508148\"]\n",
    "Tourists_Small = Tourists_Small[Tourists_Small['unique'] != \"4.4784751.92286\"]"
   ]
  },
  {
   "cell_type": "code",
   "execution_count": null,
   "metadata": {},
   "outputs": [],
   "source": [
    "#Drop everything that has more than 200.\n",
    "TouristsAttachments_Small = TouristsAttachments_Small[TouristsAttachments_Small['unique'] != \"4.551.9167\"]"
   ]
  },
  {
   "cell_type": "code",
   "execution_count": null,
   "metadata": {},
   "outputs": [],
   "source": [
    "# Drop everything that has more than 150 for flickr as well.\n",
    "TouristsFlickr_Small = TouristsFlickr_Small[TouristsFlickr_Small['unique'] != '4.48096251.918332']\n",
    "TouristsFlickr_Small = TouristsFlickr_Small[TouristsFlickr_Small['unique'] != '4.4732851.897813']\n",
    "TouristsFlickr_Small = TouristsFlickr_Small[TouristsFlickr_Small['unique'] != '4.47976151.970043']\n",
    "TouristsFlickr_Small = TouristsFlickr_Small[TouristsFlickr_Small['unique'] != '4.48133851.917663']\n",
    "TouristsFlickr_Small = TouristsFlickr_Small[TouristsFlickr_Small['unique'] != '4.59335851.931359']\n",
    "TouristsFlickr_Small = TouristsFlickr_Small[TouristsFlickr_Small['unique'] != '4.48245451.967406']\n",
    "TouristsFlickr_Small = TouristsFlickr_Small[TouristsFlickr_Small['unique'] != '4.49439151.882383000000004']\n",
    "TouristsFlickr_Small = TouristsFlickr_Small[TouristsFlickr_Small['unique'] != '4.47898951.921101']\n",
    "TouristsFlickr_Small = TouristsFlickr_Small[TouristsFlickr_Small['unique'] != '4.45181251.927397']\n",
    "TouristsFlickr_Small = TouristsFlickr_Small[TouristsFlickr_Small['unique'] != '4.52621600000000251.894079']\n",
    "TouristsFlickr_Small = TouristsFlickr_Small[TouristsFlickr_Small['unique'] != '4.49363351.897605']\n",
    "TouristsFlickr_Small = TouristsFlickr_Small[TouristsFlickr_Small['unique'] != '4.45725751.916393']\n",
    "TouristsFlickr_Small = TouristsFlickr_Small[TouristsFlickr_Small['unique'] != '4.63191851.844264']\n",
    "TouristsFlickr_Small = TouristsFlickr_Small[TouristsFlickr_Small['unique'] != '4.47366751.916194']"
   ]
  },
  {
   "cell_type": "code",
   "execution_count": null,
   "metadata": {
    "scrolled": true
   },
   "outputs": [],
   "source": [
    "TouristsFlickr_Small['unique'].value_counts()"
   ]
  },
  {
   "cell_type": "code",
   "execution_count": null,
   "metadata": {},
   "outputs": [],
   "source": [
    "TouristsAttachments_Small['unique'].value_counts()"
   ]
  },
  {
   "cell_type": "code",
   "execution_count": null,
   "metadata": {},
   "outputs": [],
   "source": [
    "# Get the unique value counts, this displays which spots can greatly influence the KDE heatmap.\n",
    "Tourists_Small['unique'].value_counts()"
   ]
  },
  {
   "cell_type": "code",
   "execution_count": null,
   "metadata": {},
   "outputs": [],
   "source": [
    "# Drop the unique column.\n",
    "Tourists_Small = Tourists_Small.drop(columns=('unique'))\n",
    "TouristsAttachments_Small = TouristsAttachments_Small.drop(columns=('unique'))\n",
    "TouristsFlickr_Small = TouristsFlickr_Small.drop(columns=('unique'))"
   ]
  },
  {
   "cell_type": "code",
   "execution_count": null,
   "metadata": {},
   "outputs": [],
   "source": [
    "# Rename the columns to combine with the attachment dataset.\n",
    "TouristsFlickr_Small.rename(columns={'longitude':'geo_lon', 'latitude':'geo_lat'}, inplace=True)"
   ]
  },
  {
   "cell_type": "code",
   "execution_count": null,
   "metadata": {},
   "outputs": [],
   "source": [
    "# Merge attachment set with flickr set.\n",
    "frames = [TouristsAttachments_Small, TouristsFlickr_Small]\n",
    "Photoset = pd.concat(frames)"
   ]
  },
  {
   "cell_type": "code",
   "execution_count": null,
   "metadata": {},
   "outputs": [],
   "source": [
    "Tourists_Small.to_csv('tourists_geo.csv', index=False)"
   ]
  },
  {
   "cell_type": "code",
   "execution_count": null,
   "metadata": {},
   "outputs": [],
   "source": [
    "TouristsAttachments_Small.to_csv('tourists_geo_attachments.csv', index=False)"
   ]
  },
  {
   "cell_type": "code",
   "execution_count": null,
   "metadata": {},
   "outputs": [],
   "source": [
    "TouristsFlickr_Small.to_csv('FlickrTourists_geo.csv', index=False)"
   ]
  },
  {
   "cell_type": "code",
   "execution_count": null,
   "metadata": {},
   "outputs": [],
   "source": [
    "Photoset.to_csv('Tourists_Photo.csv', index=False)"
   ]
  }
 ],
 "metadata": {
  "kernelspec": {
   "display_name": "Python 3",
   "language": "python",
   "name": "python3"
  },
  "language_info": {
   "codemirror_mode": {
    "name": "ipython",
    "version": 3
   },
   "file_extension": ".py",
   "mimetype": "text/x-python",
   "name": "python",
   "nbconvert_exporter": "python",
   "pygments_lexer": "ipython3",
   "version": "3.7.6"
  }
 },
 "nbformat": 4,
 "nbformat_minor": 2
}

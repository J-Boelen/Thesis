{
 "cells": [
  {
   "cell_type": "markdown",
   "metadata": {},
   "source": [
    "# Importing packages"
   ]
  },
  {
   "cell_type": "code",
   "execution_count": null,
   "metadata": {},
   "outputs": [],
   "source": [
    "import numpy as np\n",
    "import pandas as pd"
   ]
  },
  {
   "cell_type": "markdown",
   "metadata": {},
   "source": [
    "# Import clustered tourist file"
   ]
  },
  {
   "cell_type": "code",
   "execution_count": null,
   "metadata": {},
   "outputs": [],
   "source": [
    "# Import the dataset\n",
    "Tourists = pd.read_csv('tourists_clustered.csv', sep= ',', low_memory = False, lineterminator='\\n')"
   ]
  },
  {
   "cell_type": "code",
   "execution_count": null,
   "metadata": {},
   "outputs": [],
   "source": [
    "# Get an overview of the clusters.\n",
    "Tourists['cluster'].value_counts()"
   ]
  },
  {
   "cell_type": "code",
   "execution_count": null,
   "metadata": {},
   "outputs": [],
   "source": [
    "Tourists['tweet_date'] = pd.to_datetime(Tourists['tweet_date'])"
   ]
  },
  {
   "cell_type": "code",
   "execution_count": null,
   "metadata": {},
   "outputs": [],
   "source": [
    "# Create a dataset with only clustered tweets.\n",
    "Tourists_InCluster = Tourists[Tourists['cluster'] != 'None']"
   ]
  },
  {
   "cell_type": "code",
   "execution_count": null,
   "metadata": {},
   "outputs": [],
   "source": [
    "Tourists_InCluster = Tourists_InCluster[Tourists_InCluster['cluster'] != 'Blijdorp Zoo']\n",
    "Tourists_InCluster = Tourists_InCluster[Tourists_InCluster['cluster'] != 'Euromast']"
   ]
  },
  {
   "cell_type": "code",
   "execution_count": null,
   "metadata": {},
   "outputs": [],
   "source": [
    "Tourists_InCluster['user_id'].nunique()"
   ]
  },
  {
   "cell_type": "code",
   "execution_count": null,
   "metadata": {},
   "outputs": [],
   "source": [
    "# Get an overview of the clusters.\n",
    "Tourists_InCluster['cluster'].value_counts()"
   ]
  },
  {
   "cell_type": "markdown",
   "metadata": {},
   "source": [
    "#### Next, I want to generate a path for each individual user"
   ]
  },
  {
   "cell_type": "markdown",
   "metadata": {},
   "source": [
    "This path will partly correspond to the one De Choudhury et al. used. However, I will not be looking at time between tweets for now. Time will only be used to construct the path in the right order."
   ]
  },
  {
   "cell_type": "code",
   "execution_count": null,
   "metadata": {},
   "outputs": [],
   "source": [
    "# Create a set of unique users.\n",
    "UniqueUsers = Tourists_InCluster['user_id'].unique()"
   ]
  },
  {
   "cell_type": "code",
   "execution_count": null,
   "metadata": {},
   "outputs": [],
   "source": [
    "# Create an empty trajectory dictionary\n",
    "Trajectories = {}"
   ]
  },
  {
   "cell_type": "code",
   "execution_count": null,
   "metadata": {},
   "outputs": [],
   "source": [
    "# For each user, create a timed path, get the cluster of each tweet and add it to the empty dictionary.\n",
    "for i in UniqueUsers:\n",
    "    \n",
    "    # Get all the tweets of the user.\n",
    "    Tweets = Tourists_InCluster[Tourists_InCluster['user_id'] == i]\n",
    "    \n",
    "    # Sort the tweets.\n",
    "    Tweets = Tweets.sort_values(by='tweet_date')\n",
    "    \n",
    "    # Get a list of all the clusters and put it in an array.\n",
    "    ClustersOfTweets = Tweets['cluster'].values\n",
    "    \n",
    "    # Add the user and the timed path to the dictionary.\n",
    "    Trajectories.update( {i : ClustersOfTweets} )"
   ]
  },
  {
   "cell_type": "code",
   "execution_count": null,
   "metadata": {},
   "outputs": [],
   "source": [
    "# Trajectories in string format\n",
    "TrajectoryString = {}"
   ]
  },
  {
   "cell_type": "code",
   "execution_count": null,
   "metadata": {},
   "outputs": [],
   "source": [
    "for key, value in Trajectories.items():\n",
    "    \n",
    "    trajectoryString = ''\n",
    "    \n",
    "    for i in range(len(value)):\n",
    "        if trajectoryString == '':\n",
    "            trajectoryString += value[i]\n",
    "        else:\n",
    "            trajectoryString += (' -> ' + str(value[i]))\n",
    "    \n",
    "    TrajectoryString.update({key:trajectoryString })\n",
    "        "
   ]
  },
  {
   "cell_type": "code",
   "execution_count": null,
   "metadata": {},
   "outputs": [],
   "source": [
    "# Trajectory in array format\n",
    "Trajectory = pd.DataFrame(list(Trajectories.items()))\n",
    "Trajectory = Trajectory.rename(columns={0: \"user_id\", 1: \"trajectory\"})"
   ]
  },
  {
   "cell_type": "code",
   "execution_count": null,
   "metadata": {},
   "outputs": [],
   "source": [
    "# Trajectory in string format\n",
    "TrajectoryStr = pd.DataFrame(list(TrajectoryString.items()))\n",
    "TrajectoryStr = TrajectoryStr.rename(columns={0: \"user_id\", 1: \"trajectory\"})"
   ]
  },
  {
   "cell_type": "code",
   "execution_count": null,
   "metadata": {
    "scrolled": true
   },
   "outputs": [],
   "source": [
    "TrajectoryStr.head()"
   ]
  },
  {
   "cell_type": "markdown",
   "metadata": {},
   "source": [
    "#### Create pairs in a dictionary"
   ]
  },
  {
   "cell_type": "code",
   "execution_count": null,
   "metadata": {},
   "outputs": [],
   "source": [
    "# A dictionary that will hold all the pairs\n",
    "POIPairs = {}"
   ]
  },
  {
   "cell_type": "code",
   "execution_count": null,
   "metadata": {},
   "outputs": [],
   "source": [
    "POIPairs"
   ]
  },
  {
   "cell_type": "code",
   "execution_count": null,
   "metadata": {},
   "outputs": [],
   "source": [
    "# A function to filter the dataframe based on number of tweets\n",
    "def filterOnNumberOfTweets(x):\n",
    "    \n",
    "    if len(x) > 1:\n",
    "        return True\n",
    "    return False"
   ]
  },
  {
   "cell_type": "code",
   "execution_count": null,
   "metadata": {},
   "outputs": [],
   "source": [
    "Trajectory['isCandidate'] = Trajectory['trajectory'].map(lambda x: filterOnNumberOfTweets(x))"
   ]
  },
  {
   "cell_type": "code",
   "execution_count": null,
   "metadata": {},
   "outputs": [],
   "source": [
    "POI = Trajectory[Trajectory['isCandidate']]"
   ]
  },
  {
   "cell_type": "code",
   "execution_count": null,
   "metadata": {},
   "outputs": [],
   "source": [
    "POI.shape"
   ]
  },
  {
   "cell_type": "code",
   "execution_count": null,
   "metadata": {},
   "outputs": [],
   "source": [
    "# A function that creates paires of POIS.\n",
    "def createPOIPairs(dataframeWithPOI):\n",
    "    \n",
    "    # Loop over the given dataframe.\n",
    "    for index, row in dataframeWithPOI.iterrows():\n",
    "        \n",
    "        pairs = []\n",
    "        \n",
    "        # Loop over the array of trajectories for each row.\n",
    "        for i in range(len(row['trajectory'])-1):\n",
    "            \n",
    "            # Create a pair.\n",
    "            pair = [row['trajectory'][i], row['trajectory'][i+1]]\n",
    "            print(pair)\n",
    "            \n",
    "            # If the pair already exists, continue (I only want unique pairs for each user)\n",
    "            if pair in pairs:\n",
    "                continue\n",
    "            \n",
    "            # Else process the pair.\n",
    "            else:\n",
    "                \n",
    "                # Append the pair to the pair list.\n",
    "                pairs.append(pair)\n",
    "            \n",
    "                # If i already in the dictionary, append.\n",
    "                if row['trajectory'][i] in POIPairs.keys():\n",
    "                    POIPairs[row['trajectory'][i]].append(row['trajectory'][i+1])\n",
    "                # Else, create new key.\n",
    "                else:\n",
    "                    POIPairs[row['trajectory'][i]] = [row['trajectory'][i+1]]\n",
    "    \n",
    "    "
   ]
  },
  {
   "cell_type": "code",
   "execution_count": null,
   "metadata": {},
   "outputs": [],
   "source": [
    "createPOIPairs(POI)"
   ]
  },
  {
   "cell_type": "markdown",
   "metadata": {},
   "source": [
    "#### Building a markov prediction model"
   ]
  },
  {
   "cell_type": "code",
   "execution_count": null,
   "metadata": {},
   "outputs": [],
   "source": [
    "# Pick a random start point.\n",
    "startPoint = np.random.choice(list(POIPairs.keys()))"
   ]
  },
  {
   "cell_type": "code",
   "execution_count": null,
   "metadata": {},
   "outputs": [],
   "source": [
    "# Begin the markov chain with the start point.\n",
    "MarkovChain = [startPoint]"
   ]
  },
  {
   "cell_type": "code",
   "execution_count": null,
   "metadata": {},
   "outputs": [],
   "source": [
    "numberOfVisitedLocations = 6"
   ]
  },
  {
   "cell_type": "code",
   "execution_count": null,
   "metadata": {},
   "outputs": [],
   "source": [
    "for i in range(numberOfVisitedLocations):\n",
    "    MarkovChain.append(np.random.choice(POIPairs[MarkovChain[-1]]))"
   ]
  },
  {
   "cell_type": "code",
   "execution_count": null,
   "metadata": {},
   "outputs": [],
   "source": [
    "print(MarkovChain)"
   ]
  },
  {
   "cell_type": "markdown",
   "metadata": {},
   "source": [
    "#### Generating a transition matrix"
   ]
  },
  {
   "cell_type": "code",
   "execution_count": null,
   "metadata": {},
   "outputs": [],
   "source": [
    "# Empty transition matrix\n",
    "TransitionMatrix = []"
   ]
  },
  {
   "cell_type": "code",
   "execution_count": null,
   "metadata": {
    "scrolled": true
   },
   "outputs": [],
   "source": [
    "# Iterate over the keys to fill the transition matrix\n",
    "for key in POIPairs:\n",
    "    \n",
    "    # Count the total number of observations.\n",
    "    totalObs = len(POIPairs[key])\n",
    "    \n",
    "    # Count how many times each POI occurs and get percentages\n",
    "    totalCityCenter = POIPairs[key].count('City Center') / totalObs\n",
    "    totalBlaak = POIPairs[key].count('Blaak') / totalObs\n",
    "    totalAhoy = POIPairs[key].count('Rotterdam Ahoy') / totalObs\n",
    "    totalErasmusBridge = POIPairs[key].count('Kop van Zuid') / totalObs\n",
    "    totalFeyenoord = POIPairs[key].count('Feyenoord Stadium') / totalObs\n",
    "    totalAirport = POIPairs[key].count('Rotterdam The Hague Airport')/ totalObs\n",
    "    totalPercentage = totalCityCenter + totalBlaak + totalAhoy + totalErasmusBridge + totalFeyenoord + totalAirport\n",
    "    # Append the percentages to the transition matrix.\n",
    "    TransitionMatrix.append([totalCityCenter, totalAhoy, totalFeyenoord, totalErasmusBridge, totalBlaak, totalAirport])\n",
    "    print(key)"
   ]
  },
  {
   "cell_type": "code",
   "execution_count": null,
   "metadata": {},
   "outputs": [],
   "source": [
    "# Create a dataframe for better visualization.\n",
    "TransitionMatrixDF = pd.DataFrame(TransitionMatrix)"
   ]
  },
  {
   "cell_type": "code",
   "execution_count": null,
   "metadata": {},
   "outputs": [],
   "source": [
    "TransitionMatrixDF"
   ]
  },
  {
   "cell_type": "code",
   "execution_count": null,
   "metadata": {},
   "outputs": [],
   "source": [
    "# Rename columns to match the order\n",
    "TransitionMatrixDF.rename(columns = {0: \"City Center\", 1: \" Rotterdam Ahoy\", 2: \"Feyenoord Stadium\", 3: \"Kop van Zuid\",\n",
    "                                    4: \"Blaak\", 5: \"Rotterdam The Hague Airport\"}, inplace=True)"
   ]
  },
  {
   "cell_type": "code",
   "execution_count": null,
   "metadata": {},
   "outputs": [],
   "source": [
    "# Rename index to match the order\n",
    "TransitionMatrixDF.rename(index = {0: \"City Center\", 1: \"Rotterdam Ahoy\", 2: \"Feyenoord Stadium\", 3: \"Kop van Zuid\",\n",
    "                                    4: \"Blaak\", 5: \"Rotterdam The Hague Airport\"}, inplace=True)"
   ]
  },
  {
   "cell_type": "code",
   "execution_count": null,
   "metadata": {},
   "outputs": [],
   "source": [
    "TransitionMatrixDF"
   ]
  }
 ],
 "metadata": {
  "kernelspec": {
   "display_name": "Python 3",
   "language": "python",
   "name": "python3"
  },
  "language_info": {
   "codemirror_mode": {
    "name": "ipython",
    "version": 3
   },
   "file_extension": ".py",
   "mimetype": "text/x-python",
   "name": "python",
   "nbconvert_exporter": "python",
   "pygments_lexer": "ipython3",
   "version": "3.7.6"
  }
 },
 "nbformat": 4,
 "nbformat_minor": 4
}

{
 "cells": [
  {
   "cell_type": "code",
   "execution_count": null,
   "metadata": {},
   "outputs": [],
   "source": [
    "# Importing packages\n",
    "import numpy as np\n",
    "import pandas as pd\n",
    "import urllib.request\n",
    "import time\n",
    "import random\n",
    "import string\n",
    "import urllib.parse\n",
    "import hashlib\n",
    "import hmac\n",
    "import base64\n",
    "import requests\n",
    "import webbrowser\n",
    "import sys\n",
    "from requests.auth import HTTPBasicAuth\n",
    "from datetime import datetime\n",
    "from datetime import timedelta\n",
    "import json"
   ]
  },
  {
   "cell_type": "code",
   "execution_count": null,
   "metadata": {},
   "outputs": [],
   "source": [
    "# Key and Secret for the api calls.\n",
    "api_key = '#########################'\n",
    "api_secret = '################'"
   ]
  },
  {
   "cell_type": "markdown",
   "metadata": {},
   "source": [
    "## Oauth"
   ]
  },
  {
   "cell_type": "markdown",
   "metadata": {},
   "source": [
    "Oauth is the authentication process of flickr, which consists of three steps. It is important to complete these steps as you will not retrieve all posts when not authorized."
   ]
  },
  {
   "cell_type": "code",
   "execution_count": null,
   "metadata": {},
   "outputs": [],
   "source": [
    "# Create a random string function for the nonce\n",
    "def randomString(stringLength=10):\n",
    "    letters = string.ascii_lowercase\n",
    "    return ''.join(random.choice(letters) for i in range(stringLength))"
   ]
  },
  {
   "cell_type": "code",
   "execution_count": null,
   "metadata": {},
   "outputs": [],
   "source": [
    "# Create timestamp and nonce variables needed for the call\n",
    "timestamp = str(int(time.time()))\n",
    "nonce = randomString()"
   ]
  },
  {
   "cell_type": "markdown",
   "metadata": {},
   "source": [
    "#### Request Token"
   ]
  },
  {
   "cell_type": "code",
   "execution_count": null,
   "metadata": {},
   "outputs": [],
   "source": [
    "# Create the request string\n",
    "requestString = ('http://www.flickr.com/services/oauth/request_token' + '?oauth_nonce=' + nonce +\n",
    "                 '&oauth_timestamp=' + timestamp + '&oauth_consumer_key=' + api_key +\n",
    "                 '&oauth_callback=oob' + '&oauth_signature_method=HMAC-SHA1')"
   ]
  },
  {
   "cell_type": "markdown",
   "metadata": {},
   "source": [
    "Signature"
   ]
  },
  {
   "cell_type": "code",
   "execution_count": null,
   "metadata": {},
   "outputs": [],
   "source": [
    "# Create the base string\n",
    "baseString = ('GET&' + urllib.parse.quote_plus('http://www.flickr.com/services/oauth/request_token') + '&')"
   ]
  },
  {
   "cell_type": "code",
   "execution_count": null,
   "metadata": {},
   "outputs": [],
   "source": [
    "# Create the authentication parameters --> need to be sorted alphabetically\n",
    "parameters = ('oauth_callback=oob&oauth_consumer_key=' + api_key + '&oauth_nonce=' + nonce\n",
    "             + '&oauth_signature_method=HMAC-SHA1' + '&oauth_timestamp=' + timestamp)"
   ]
  },
  {
   "cell_type": "code",
   "execution_count": null,
   "metadata": {},
   "outputs": [],
   "source": [
    "# Encode the parameters\n",
    "parameters = urllib.parse.quote_plus(parameters)"
   ]
  },
  {
   "cell_type": "code",
   "execution_count": null,
   "metadata": {},
   "outputs": [],
   "source": [
    "parameters = parameters.replace('+', '%20')\n",
    "#strrep(parameters, '+', '%20'); % correction for url-safe"
   ]
  },
  {
   "cell_type": "code",
   "execution_count": null,
   "metadata": {},
   "outputs": [],
   "source": [
    "# Update the baseString\n",
    "baseString = baseString + parameters"
   ]
  },
  {
   "cell_type": "code",
   "execution_count": null,
   "metadata": {},
   "outputs": [],
   "source": [
    "# Create key\n",
    "key = api_secret + '&'"
   ]
  },
  {
   "cell_type": "code",
   "execution_count": null,
   "metadata": {},
   "outputs": [],
   "source": [
    "# Function for HMAC_SHA1\n",
    "def HMAC_SHA1(message, key):\n",
    "    \n",
    "    key = bytes(key, 'UTF-8')\n",
    "    message = bytes(message, 'UTF-8')\n",
    "    \n",
    "    digester = hmac.new(key, message, hashlib.sha1)\n",
    "    signature1 = digester.digest()\n",
    "    \n",
    "    signature2 = base64.standard_b64encode(signature1)    \n",
    "    \n",
    "    return str(signature2, 'UTF-8')"
   ]
  },
  {
   "cell_type": "code",
   "execution_count": null,
   "metadata": {},
   "outputs": [],
   "source": [
    "# Create the signature\n",
    "signature = HMAC_SHA1(baseString, key)"
   ]
  },
  {
   "cell_type": "code",
   "execution_count": null,
   "metadata": {},
   "outputs": [],
   "source": [
    "# Encode signature\n",
    "signature = urllib.parse.quote_plus(signature)"
   ]
  },
  {
   "cell_type": "code",
   "execution_count": null,
   "metadata": {},
   "outputs": [],
   "source": [
    "# Update the request string to complete it.\n",
    "requestString = requestString + '&oauth_signature=' + signature"
   ]
  },
  {
   "cell_type": "code",
   "execution_count": null,
   "metadata": {
    "scrolled": true
   },
   "outputs": [],
   "source": [
    "requestString"
   ]
  },
  {
   "cell_type": "code",
   "execution_count": null,
   "metadata": {},
   "outputs": [],
   "source": [
    "# Get the response and save it to rawResponse\n",
    "res= requests.get(requestString)\n",
    "rawResponse = res.text"
   ]
  },
  {
   "cell_type": "code",
   "execution_count": null,
   "metadata": {
    "scrolled": true
   },
   "outputs": [],
   "source": [
    "rawResponse"
   ]
  },
  {
   "cell_type": "code",
   "execution_count": null,
   "metadata": {
    "scrolled": false
   },
   "outputs": [],
   "source": [
    "# Split response\n",
    "rawResponseSplit = rawResponse.split('&')\n",
    "rawResponseSplit"
   ]
  },
  {
   "cell_type": "code",
   "execution_count": null,
   "metadata": {},
   "outputs": [],
   "source": [
    "# Get confirmed\n",
    "confirmed = rawResponseSplit[0]\n",
    "confirmed = confirmed.split('=')"
   ]
  },
  {
   "cell_type": "code",
   "execution_count": null,
   "metadata": {},
   "outputs": [],
   "source": [
    "# Get response token\n",
    "responseToken = rawResponseSplit[1]\n",
    "responseToken = responseToken.split('=')"
   ]
  },
  {
   "cell_type": "code",
   "execution_count": null,
   "metadata": {},
   "outputs": [],
   "source": [
    "# Get response secret\n",
    "responseSecret = rawResponseSplit[2]\n",
    "responseSecret = responseSecret.split('=')"
   ]
  },
  {
   "cell_type": "code",
   "execution_count": null,
   "metadata": {},
   "outputs": [],
   "source": [
    "# Get the requestToken and requestSecret\n",
    "requestToken = responseToken[1]\n",
    "requestSecret = responseSecret[1]"
   ]
  },
  {
   "cell_type": "markdown",
   "metadata": {},
   "source": [
    "#### Authorisation"
   ]
  },
  {
   "cell_type": "code",
   "execution_count": null,
   "metadata": {},
   "outputs": [],
   "source": [
    "# Open authorisation window\n",
    "webbrowser.open('http://www.flickr.com/services/oauth/authorize?' + 'oauth_token=' + requestToken)\n",
    "print('Enter the code here: ')\n",
    "userinput = input()"
   ]
  },
  {
   "cell_type": "markdown",
   "metadata": {},
   "source": [
    "#### Access token"
   ]
  },
  {
   "cell_type": "code",
   "execution_count": null,
   "metadata": {},
   "outputs": [],
   "source": [
    "# Create timestamp and nonce variables needed for the call\n",
    "timestamp = str(int(time.time()))\n",
    "nonce = randomString()"
   ]
  },
  {
   "cell_type": "code",
   "execution_count": null,
   "metadata": {},
   "outputs": [],
   "source": [
    "# Request url for the access token\n",
    "requestURL = 'http://www.flickr.com/services/oauth/access_token'"
   ]
  },
  {
   "cell_type": "code",
   "execution_count": null,
   "metadata": {},
   "outputs": [],
   "source": [
    "# Parameters for the call\n",
    "parameters = ('oauth_consumer_key=' + api_key + '&oauth_nonce=' + nonce + '&oauth_signature_method=HMAC-SHA1' +\n",
    "             '&oauth_timestamp=' + timestamp + '&oauth_token=' + requestToken + '&oauth_verifier=' + userinput)"
   ]
  },
  {
   "cell_type": "code",
   "execution_count": null,
   "metadata": {},
   "outputs": [],
   "source": [
    "# Create the base string\n",
    "baseString = ('GET&' + urllib.parse.quote_plus(requestURL) + '&' +urllib.parse.quote_plus(parameters))"
   ]
  },
  {
   "cell_type": "code",
   "execution_count": null,
   "metadata": {},
   "outputs": [],
   "source": [
    "# Create key\n",
    "key = (api_secret + '&' + requestSecret)"
   ]
  },
  {
   "cell_type": "code",
   "execution_count": null,
   "metadata": {},
   "outputs": [],
   "source": [
    "# Create the signature\n",
    "signature = HMAC_SHA1(baseString, key)"
   ]
  },
  {
   "cell_type": "code",
   "execution_count": null,
   "metadata": {},
   "outputs": [],
   "source": [
    "# Encode the signature\n",
    "signature = urllib.parse.quote_plus(signature)"
   ]
  },
  {
   "cell_type": "code",
   "execution_count": null,
   "metadata": {},
   "outputs": [],
   "source": [
    "requestString = (requestURL + '?' + parameters + '&oauth_signature=' + signature)"
   ]
  },
  {
   "cell_type": "code",
   "execution_count": null,
   "metadata": {},
   "outputs": [],
   "source": [
    "# Get the response and save it to authorisationResponse\n",
    "auth= requests.get(requestString)\n",
    "authorisationResponse = auth.text"
   ]
  },
  {
   "cell_type": "code",
   "execution_count": null,
   "metadata": {
    "scrolled": true
   },
   "outputs": [],
   "source": [
    "authorisationResponse"
   ]
  },
  {
   "cell_type": "code",
   "execution_count": null,
   "metadata": {},
   "outputs": [],
   "source": [
    "# Split to get all the details\n",
    "authSplit = authorisationResponse.split('&')"
   ]
  },
  {
   "cell_type": "code",
   "execution_count": null,
   "metadata": {},
   "outputs": [],
   "source": [
    "# Get fullname\n",
    "responseFullname = authSplit[0].split('=')\n",
    "responseFullname = responseFullname[1]"
   ]
  },
  {
   "cell_type": "code",
   "execution_count": null,
   "metadata": {},
   "outputs": [],
   "source": [
    "# Get access token\n",
    "accessToken = authSplit[1].split('=')\n",
    "accessToken = accessToken[1]"
   ]
  },
  {
   "cell_type": "code",
   "execution_count": null,
   "metadata": {},
   "outputs": [],
   "source": [
    "# Get access secret\n",
    "responseSecret = authSplit[2].split('=')\n",
    "responseSecret = responseSecret[1]"
   ]
  },
  {
   "cell_type": "code",
   "execution_count": null,
   "metadata": {},
   "outputs": [],
   "source": [
    "# Get nsid\n",
    "nsid = authSplit[3].split('=')\n",
    "nsid = nsid[1]"
   ]
  },
  {
   "cell_type": "code",
   "execution_count": null,
   "metadata": {},
   "outputs": [],
   "source": [
    "# Get username\n",
    "username = authSplit[4].split('=')\n",
    "username = username[1]"
   ]
  },
  {
   "cell_type": "code",
   "execution_count": null,
   "metadata": {},
   "outputs": [],
   "source": [
    "# Combine this information to save it \n",
    "authCredentials = {'Fullname': responseFullname, 'AccessToken': accessToken,\n",
    "                  'ResponseSecret': responseSecret, 'nsid':nsid, 'username':username}"
   ]
  },
  {
   "cell_type": "code",
   "execution_count": null,
   "metadata": {},
   "outputs": [],
   "source": [
    "authCredentials"
   ]
  },
  {
   "cell_type": "code",
   "execution_count": null,
   "metadata": {},
   "outputs": [],
   "source": [
    "credentials = pd.DataFrame(authCredentials, index=[0])"
   ]
  },
  {
   "cell_type": "code",
   "execution_count": null,
   "metadata": {},
   "outputs": [],
   "source": [
    "credentials.to_csv('FlickrCredentials.csv', index=False)"
   ]
  },
  {
   "cell_type": "markdown",
   "metadata": {},
   "source": [
    "#### Reuse the access token"
   ]
  },
  {
   "cell_type": "code",
   "execution_count": null,
   "metadata": {},
   "outputs": [],
   "source": [
    "# Get the access token from storage.\n",
    "credentials = pd.read_csv('FlickrCredentials.csv', sep= ',', low_memory = False, lineterminator='\\n')"
   ]
  },
  {
   "cell_type": "code",
   "execution_count": null,
   "metadata": {},
   "outputs": [],
   "source": [
    "# Create timestamp and nonce variables needed for the call\n",
    "timestamp = str(int(time.time()))\n",
    "nonce = randomString()"
   ]
  },
  {
   "cell_type": "code",
   "execution_count": null,
   "metadata": {},
   "outputs": [],
   "source": [
    "# Get access token, nsid and responsesecret\n",
    "accessToken = credentials['AccessToken'][0]\n",
    "responseSecret = credentials['ResponseSecret'][0]\n",
    "nsid = credentials['nsid'][0]"
   ]
  },
  {
   "cell_type": "code",
   "execution_count": null,
   "metadata": {},
   "outputs": [],
   "source": [
    "# Base address\n",
    "address = 'http://api.flickr.com/services/rest'"
   ]
  },
  {
   "cell_type": "code",
   "execution_count": null,
   "metadata": {},
   "outputs": [],
   "source": [
    "# Method\n",
    "method = 'flickr.prefs.getPrivacy'"
   ]
  },
  {
   "cell_type": "code",
   "execution_count": null,
   "metadata": {},
   "outputs": [],
   "source": [
    "# Parameters, sorted alphabetically\n",
    "parameters = ('method=' + method + '&oauth_consumer_key=' + api_key +  '&oauth_nonce=' + nonce +\n",
    "             '&oauth_signature_method=HMAC-SHA1&oauth_timestamp=' + timestamp + '&oauth_token=' +\n",
    "              accessToken + '&user_id=' + nsid\n",
    "             )"
   ]
  },
  {
   "cell_type": "code",
   "execution_count": null,
   "metadata": {},
   "outputs": [],
   "source": [
    "# Create base string\n",
    "baseString = ('GET&' + urllib.parse.quote_plus(address) + '&' + urllib.parse.quote_plus(parameters))"
   ]
  },
  {
   "cell_type": "code",
   "execution_count": null,
   "metadata": {},
   "outputs": [],
   "source": [
    "# Create key and signature\n",
    "key = (api_secret + '&' + responseSecret)\n",
    "signature = HMAC_SHA1(baseString, key)"
   ]
  },
  {
   "cell_type": "code",
   "execution_count": null,
   "metadata": {},
   "outputs": [],
   "source": [
    "# Create requestString\n",
    "requestString = (address + '?' + parameters + '&oauth_signature=' + signature)"
   ]
  },
  {
   "cell_type": "code",
   "execution_count": null,
   "metadata": {},
   "outputs": [],
   "source": [
    "# Do the request\n",
    "request = requests.get(requestString)\n",
    "request = request.text"
   ]
  },
  {
   "cell_type": "markdown",
   "metadata": {},
   "source": [
    "# Getting all the information and putting it in a dataframe"
   ]
  },
  {
   "cell_type": "markdown",
   "metadata": {},
   "source": [
    "This consists of five main steps:\n",
    "\n",
    "1. Get a list of photos.\n",
    "2. Parse the JSON file.\n",
    "3. For each photo in the JSON file, get more information by using the photo ID and secret.\n",
    "4. Parse the JSON file of the individual photo.\n",
    "5. Combine everything in a dataframe."
   ]
  },
  {
   "cell_type": "markdown",
   "metadata": {},
   "source": [
    "#### Two functions to handle the JSON responses"
   ]
  },
  {
   "cell_type": "code",
   "execution_count": null,
   "metadata": {},
   "outputs": [],
   "source": [
    "def handlePhotoList(JSON):\n",
    "    \n",
    "    # Get the number of photos in the list\n",
    "    perPage = int(JSON['photos']['perpage'])\n",
    "    total = int(JSON['photos']['total'])\n",
    "    page = int(JSON['photos']['page'])\n",
    "    pages = int(JSON['photos']['pages'])\n",
    "    numPhotos = perPage\n",
    "    \n",
    "    # On the last page, see how many photos are left\n",
    "    if page == pages:\n",
    "        numPhotos = total - (perPage * (page - 1))\n",
    "    \n",
    "    data = {'ID': [], 'Secret': []}\n",
    "    for i in range(numPhotos):\n",
    "        \n",
    "        # For each photo, get the id and secret and store it in the data dict.\n",
    "        data['ID'].append(JSON['photos']['photo'][i]['id'])\n",
    "        data['Secret'].append(JSON['photos']['photo'][i]['secret'])\n",
    "      \n",
    "    # Create dataframe from dict.\n",
    "    df = pd.DataFrame(data=data)\n",
    "    \n",
    "    # Return the df\n",
    "    return df\n",
    "    "
   ]
  },
  {
   "cell_type": "code",
   "execution_count": null,
   "metadata": {},
   "outputs": [],
   "source": [
    "def handlePhoto(JSON):\n",
    "    \n",
    "    # General ID information\n",
    "    photoID = str(JSON['photo']['id'])\n",
    "    photoSecret = str(JSON['photo']['secret'])\n",
    "    uploadDate = str(JSON['photo']['dateuploaded'])\n",
    "    \n",
    "    # Title and description\n",
    "    photoTitle = str(JSON['photo']['title']['_content'])\n",
    "    photoDescription = str(JSON['photo']['description']['_content'])\n",
    "    \n",
    "    # Dates\n",
    "    postedDate = str(JSON['photo']['dates']['posted'])\n",
    "    takenDate = str(JSON['photo']['dates']['taken'])\n",
    "    lastUpdateDate = str(JSON['photo']['dates']['lastupdate'])\n",
    "    \n",
    "    # User information\n",
    "    userID = str(JSON['photo']['owner']['nsid'])\n",
    "    username = str(JSON['photo']['owner']['username'])\n",
    "    userLocation = str(JSON['photo']['owner']['location'])\n",
    "    \n",
    "    # Location information\n",
    "    longitude = str(JSON['photo']['location']['longitude'])\n",
    "    latitude = str(JSON['photo']['location']['latitude'])\n",
    "    try:\n",
    "        locality = str(JSON['photo']['location']['locality']['_content'])\n",
    "    except:\n",
    "        locality = 'null'\n",
    "    neighbourhood = str(JSON['photo']['location']['neighbourhood']['_content'])\n",
    "    \n",
    "    # Store everything in a dict.\n",
    "    photoInformation = {'photoID': photoID, 'photoSecret': photoSecret, 'uploadDate': uploadDate, \n",
    "                        'title': photoTitle, 'description':photoDescription, 'postedDate': postedDate,\n",
    "                       'takenDate': takenDate, 'lastUpdateDate': lastUpdateDate, 'userID': userID,\n",
    "                       'userName': username, 'userLocation': userLocation, 'longitude': longitude,\n",
    "                       'latitude': latitude, 'locality': locality, 'neighbourhood': neighbourhood}\n",
    "    \n",
    "    # Return the information\n",
    "    return photoInformation\n",
    "    "
   ]
  },
  {
   "cell_type": "markdown",
   "metadata": {},
   "source": [
    "#### Two functions that do the API calls"
   ]
  },
  {
   "cell_type": "code",
   "execution_count": null,
   "metadata": {},
   "outputs": [],
   "source": [
    "def getPhotoList(api_key, accessToken, minUploadDate, maxUploadDate, pageNumber):\n",
    "    \n",
    "    # Create timestamp and nonce variables needed for the call\n",
    "    timestamp = str(int(time.time()))\n",
    "    nonce = randomString()\n",
    "    \n",
    "    # Base url\n",
    "    addr = 'http://api.flickr.com/services/rest'\n",
    "    \n",
    "    # Define the method\n",
    "    method = 'flickr.photos.search'\n",
    "    \n",
    "    # Define the parameters\n",
    "    parameters = ('api_key=' + api_key + '&bbox=4.419937%2C51.8415%2C4.633141%2C51.97452' + \n",
    "              '&format=json&nojsoncallback=1' +'&has_geo=1' +\n",
    "              '&max_upload_date=' + maxUploadDate +'&method=' + method + \n",
    "              '&min_upload_date=' + minUploadDate + '&oauth_consumer_key=' + api_key +\n",
    "              '&oauth_nonce=' + nonce + '&oauth_signature_method=HMAC-SHA1&oauth_timestamp=' + timestamp +\n",
    "              '&oauth_token=' + accessToken + '&page=' + str(pageNumber) + '&per_page=250' + '&sort=date-posted-asc')\n",
    "    \n",
    "    # Final base string\n",
    "    baseString = ('GET&' + urllib.parse.quote_plus(addr) + '&' + urllib.parse.quote_plus(parameters))\n",
    "    \n",
    "    # Define the key\n",
    "    key = api_secret + '&' + responseSecret\n",
    "    \n",
    "    # Create the signature\n",
    "    signature = HMAC_SHA1(baseString, key)\n",
    "    \n",
    "    # Encode the signature\n",
    "    signature = urllib.parse.quote_plus(signature)\n",
    "    \n",
    "    # Create the final request\n",
    "    requestString = (addr + '?' + parameters + '&oauth_signature=' + signature)\n",
    "    \n",
    "    # Do the request\n",
    "    request = requests.get(requestString)\n",
    "    request = request.text\n",
    "    \n",
    "    # Create JSON\n",
    "    JSON = json.loads(request)\n",
    "\n",
    "    return JSON"
   ]
  },
  {
   "cell_type": "code",
   "execution_count": null,
   "metadata": {},
   "outputs": [],
   "source": [
    "def getPhotoDetails(api_key, accessToken, photoID, photoSecret):\n",
    "    \n",
    "    # Create timestamp and nonce variables needed for the call\n",
    "    timestamp = str(int(time.time()))\n",
    "    nonce = randomString()\n",
    "    \n",
    "    # Base url\n",
    "    addr = 'http://api.flickr.com/services/rest'\n",
    "    \n",
    "    # Define the method\n",
    "    method = 'flickr.photos.getInfo'\n",
    "    \n",
    "    # Define the parameters\n",
    "    parameters = ('api_key=' + api_key + '&format=json&nojsoncallback=1' +\n",
    "              '&method=' + method + '&oauth_consumer_key=' + api_key +\n",
    "              '&oauth_nonce=' + nonce + '&oauth_signature_method=HMAC-SHA1&oauth_timestamp=' + timestamp +\n",
    "              '&oauth_token=' + accessToken + '&photo_id=' + photoID + '&secret=' + photoSecret)\n",
    "    \n",
    "    # Final base string\n",
    "    baseString = ('GET&' + urllib.parse.quote_plus(addr) + '&' + urllib.parse.quote_plus(parameters))\n",
    "    \n",
    "    # Define the key\n",
    "    key = api_secret + '&' + responseSecret\n",
    "    \n",
    "    # Create the signature\n",
    "    signature = HMAC_SHA1(baseString, key)\n",
    "    \n",
    "    # Encode the signature\n",
    "    signature = urllib.parse.quote_plus(signature)\n",
    "    \n",
    "    # Create the final request\n",
    "    requestString = (addr + '?' + parameters + '&oauth_signature=' + signature)\n",
    "    \n",
    "    # Do the request\n",
    "    request = requests.get(requestString)\n",
    "    request = request.text\n",
    "    \n",
    "    # Create JSON\n",
    "    JSON = json.loads(request)\n",
    "    \n",
    "    return JSON"
   ]
  },
  {
   "cell_type": "markdown",
   "metadata": {},
   "source": [
    "#### Filling in the dataframe in a loop"
   ]
  },
  {
   "cell_type": "code",
   "execution_count": null,
   "metadata": {},
   "outputs": [],
   "source": [
    "# Define min upload date and max upload date\n",
    "minUploadDate = datetime(2018,1,1)\n",
    "maxUploadDate = minUploadDate + timedelta(days=5)"
   ]
  },
  {
   "cell_type": "code",
   "execution_count": null,
   "metadata": {},
   "outputs": [],
   "source": [
    "# Define the pagenumber variables\n",
    "pagenumber = 1\n",
    "pagenumberMax = -1"
   ]
  },
  {
   "cell_type": "code",
   "execution_count": null,
   "metadata": {},
   "outputs": [],
   "source": [
    "# Create a dataframe.\n",
    "Flickr2018 = pd.DataFrame() "
   ]
  },
  {
   "cell_type": "code",
   "execution_count": null,
   "metadata": {
    "scrolled": true
   },
   "outputs": [],
   "source": [
    "# Loop over all the pages for one entire year.\n",
    "while minUploadDate.year < 2019:\n",
    "    \n",
    "    # Transform the date to something the API can work with\n",
    "    minUploadDateStr = str(int((minUploadDate - datetime(1970, 1, 1)) / timedelta(seconds=1)))\n",
    "    maxUploadDateStr = str(int((maxUploadDate - datetime(1970, 1, 1)) / timedelta(seconds=1)))\n",
    "    \n",
    "    \n",
    "    while True:\n",
    "        \n",
    "        # Do the api call to get all the photos in JSON format.\n",
    "        photoList = getPhotoList(api_key, accessToken, minUploadDateStr, maxUploadDateStr, pagenumber)\n",
    "    \n",
    "        # Get the number of pages.\n",
    "        pagenumberMax = photoList['photos']['pages']\n",
    "    \n",
    "        # Extract the information from the JSON and return a dataframe.\n",
    "        photolistDF = handlePhotoList(photoList)\n",
    "    \n",
    "        # For each photo in the DF, get more information.\n",
    "        for index, row in photolistDF.iterrows():\n",
    "        \n",
    "            # Get the photo details through the API.\n",
    "            photodetails = getPhotoDetails(api_key, accessToken, row['ID'], row['Secret'])\n",
    "        \n",
    "            # Parse the JSON.\n",
    "            photodetailsDict = handlePhoto(photodetails)\n",
    "        \n",
    "            # Put it in the final dataframe.\n",
    "            Flickr2018 = Flickr2018.append(photodetailsDict, ignore_index=True)\n",
    "        \n",
    "        \n",
    "        # If there are more pages then the current page number, add one and continue with the next iteration.\n",
    "        if pagenumber < pagenumberMax:\n",
    "            print('{} - {}'.format(minUploadDate, maxUploadDate))\n",
    "            print('-----------------------------------------')\n",
    "            print('Added page {} of {} pages'.format(pagenumber, pagenumberMax))\n",
    "            print('Total number of photos retrieved: {}'.format(len(Flickr2018)))\n",
    "            print('Total number of unique photos: {}'.format(Flickr2018['photoID'].nunique()))\n",
    "            print('-----------------------------------------')\n",
    "            print('-----------------------------------------')\n",
    "            pagenumber += 1\n",
    "        \n",
    "        # Else, stop the inner while loop and reset everything to go into the next outer loop.\n",
    "        else:\n",
    "            \n",
    "            print('-------- Fininshed {} - {} ---------'.format(minUploadDate, maxUploadDate))\n",
    "            print('Total number of photos retrieved: {}'.format(len(Flickr2018)))\n",
    "            print('Total number of unique photos: {}'.format(Flickr2018['photoID'].nunique()))\n",
    "            # Reset the pagenumber.\n",
    "            pagenumber = 1\n",
    "            pagenumberMax = -1\n",
    "            \n",
    "            # Move the days by 5.\n",
    "            minUploadDate = maxUploadDate\n",
    "            maxUploadDate = minUploadDate + timedelta(days=5)\n",
    "            \n",
    "            break    \n",
    "    "
   ]
  },
  {
   "cell_type": "code",
   "execution_count": null,
   "metadata": {
    "scrolled": true
   },
   "outputs": [],
   "source": [
    "Flickr2018.to_csv('Flickr2018.csv', index=False)"
   ]
  }
 ],
 "metadata": {
  "kernelspec": {
   "display_name": "Python 3",
   "language": "python",
   "name": "python3"
  },
  "language_info": {
   "codemirror_mode": {
    "name": "ipython",
    "version": 3
   },
   "file_extension": ".py",
   "mimetype": "text/x-python",
   "name": "python",
   "nbconvert_exporter": "python",
   "pygments_lexer": "ipython3",
   "version": "3.7.6"
  }
 },
 "nbformat": 4,
 "nbformat_minor": 4
}
